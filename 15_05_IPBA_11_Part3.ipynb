{
 "cells": [
  {
   "cell_type": "markdown",
   "id": "de519315",
   "metadata": {},
   "source": [
    "# 1) Contents of the approach\n",
    "    1.a) Loading data and preview\n",
    "    1.b) Initial understanding of the dataset(Volumne, size)\n",
    "    1.c) Fix missing values in Age feature"
   ]
  },
  {
   "cell_type": "code",
   "execution_count": 1,
   "id": "169daa59",
   "metadata": {},
   "outputs": [],
   "source": [
    "# Import some required packages/libraries\n",
    "\n",
    "import numpy as np\n",
    "import pandas as pd\n",
    "\n",
    "import matplotlib.pyplot as plt\n",
    "import seaborn as sns\n",
    "\n",
    "%matplotlib inline\n",
    "\n",
    "sns.set_style(style = \"darkgrid\")\n",
    "plt.rcParams['figure.figsize'] = [9.0, 6.0] # make plot sizes, relatively larger than the normal notebook\n"
   ]
  },
  {
   "cell_type": "code",
   "execution_count": 2,
   "id": "d12bbd39",
   "metadata": {},
   "outputs": [
    {
     "data": {
      "text/html": [
       "<div>\n",
       "<style scoped>\n",
       "    .dataframe tbody tr th:only-of-type {\n",
       "        vertical-align: middle;\n",
       "    }\n",
       "\n",
       "    .dataframe tbody tr th {\n",
       "        vertical-align: top;\n",
       "    }\n",
       "\n",
       "    .dataframe thead th {\n",
       "        text-align: right;\n",
       "    }\n",
       "</style>\n",
       "<table border=\"1\" class=\"dataframe\">\n",
       "  <thead>\n",
       "    <tr style=\"text-align: right;\">\n",
       "      <th></th>\n",
       "      <th>Survived</th>\n",
       "      <th>Pclass</th>\n",
       "      <th>Name</th>\n",
       "      <th>Sex</th>\n",
       "      <th>Age</th>\n",
       "      <th>SibSp</th>\n",
       "      <th>Parch</th>\n",
       "      <th>Ticket</th>\n",
       "      <th>Fare</th>\n",
       "      <th>Cabin</th>\n",
       "      <th>Embarked</th>\n",
       "    </tr>\n",
       "    <tr>\n",
       "      <th>PassengerId</th>\n",
       "      <th></th>\n",
       "      <th></th>\n",
       "      <th></th>\n",
       "      <th></th>\n",
       "      <th></th>\n",
       "      <th></th>\n",
       "      <th></th>\n",
       "      <th></th>\n",
       "      <th></th>\n",
       "      <th></th>\n",
       "      <th></th>\n",
       "    </tr>\n",
       "  </thead>\n",
       "  <tbody>\n",
       "    <tr>\n",
       "      <th>1</th>\n",
       "      <td>0</td>\n",
       "      <td>3</td>\n",
       "      <td>Braund, Mr. Owen Harris</td>\n",
       "      <td>male</td>\n",
       "      <td>22.0</td>\n",
       "      <td>1</td>\n",
       "      <td>0</td>\n",
       "      <td>A/5 21171</td>\n",
       "      <td>7.2500</td>\n",
       "      <td>NaN</td>\n",
       "      <td>S</td>\n",
       "    </tr>\n",
       "    <tr>\n",
       "      <th>2</th>\n",
       "      <td>1</td>\n",
       "      <td>1</td>\n",
       "      <td>Cumings, Mrs. John Bradley (Florence Briggs Th...</td>\n",
       "      <td>female</td>\n",
       "      <td>38.0</td>\n",
       "      <td>1</td>\n",
       "      <td>0</td>\n",
       "      <td>PC 17599</td>\n",
       "      <td>71.2833</td>\n",
       "      <td>C85</td>\n",
       "      <td>C</td>\n",
       "    </tr>\n",
       "    <tr>\n",
       "      <th>3</th>\n",
       "      <td>1</td>\n",
       "      <td>3</td>\n",
       "      <td>Heikkinen, Miss. Laina</td>\n",
       "      <td>female</td>\n",
       "      <td>26.0</td>\n",
       "      <td>0</td>\n",
       "      <td>0</td>\n",
       "      <td>STON/O2. 3101282</td>\n",
       "      <td>7.9250</td>\n",
       "      <td>NaN</td>\n",
       "      <td>S</td>\n",
       "    </tr>\n",
       "  </tbody>\n",
       "</table>\n",
       "</div>"
      ],
      "text/plain": [
       "             Survived  Pclass  \\\n",
       "PassengerId                     \n",
       "1                   0       3   \n",
       "2                   1       1   \n",
       "3                   1       3   \n",
       "\n",
       "                                                          Name     Sex   Age  \\\n",
       "PassengerId                                                                    \n",
       "1                                      Braund, Mr. Owen Harris    male  22.0   \n",
       "2            Cumings, Mrs. John Bradley (Florence Briggs Th...  female  38.0   \n",
       "3                                       Heikkinen, Miss. Laina  female  26.0   \n",
       "\n",
       "             SibSp  Parch            Ticket     Fare Cabin Embarked  \n",
       "PassengerId                                                          \n",
       "1                1      0         A/5 21171   7.2500   NaN        S  \n",
       "2                1      0          PC 17599  71.2833   C85        C  \n",
       "3                0      0  STON/O2. 3101282   7.9250   NaN        S  "
      ]
     },
     "execution_count": 2,
     "metadata": {},
     "output_type": "execute_result"
    }
   ],
   "source": [
    "# Load the data and preview\n",
    "titanic_df = pd.read_csv(\"titanic-data.csv\", index_col = [\"PassengerId\"])\n",
    "titanic_df.head(3)"
   ]
  },
  {
   "cell_type": "code",
   "execution_count": 3,
   "id": "7d07dc26",
   "metadata": {},
   "outputs": [
    {
     "name": "stdout",
     "output_type": "stream",
     "text": [
      "<class 'pandas.core.frame.DataFrame'>\n",
      "Int64Index: 891 entries, 1 to 891\n",
      "Data columns (total 11 columns):\n",
      " #   Column    Non-Null Count  Dtype  \n",
      "---  ------    --------------  -----  \n",
      " 0   Survived  891 non-null    int64  \n",
      " 1   Pclass    891 non-null    int64  \n",
      " 2   Name      891 non-null    object \n",
      " 3   Sex       891 non-null    object \n",
      " 4   Age       714 non-null    float64\n",
      " 5   SibSp     891 non-null    int64  \n",
      " 6   Parch     891 non-null    int64  \n",
      " 7   Ticket    891 non-null    object \n",
      " 8   Fare      891 non-null    float64\n",
      " 9   Cabin     204 non-null    object \n",
      " 10  Embarked  889 non-null    object \n",
      "dtypes: float64(2), int64(4), object(5)\n",
      "memory usage: 83.5+ KB\n"
     ]
    }
   ],
   "source": [
    "#Data summary on entries\n",
    "titanic_df.info()"
   ]
  },
  {
   "cell_type": "markdown",
   "id": "9e633321",
   "metadata": {},
   "source": [
    "Data Quality Summary:\n",
    "    1) Total of 891 passengers on Titanic\n",
    "    2) Missing values for Age, Cabin, Embarked(for 2 passengers, we dont have the origin details, a bit tricky)\n",
    "    3) Age needs to be fixed (mandatorily) for any analysis to be done next, missing rows of Cabin and Embarked can still be \n",
    "        ignored"
   ]
  },
  {
   "cell_type": "code",
   "execution_count": 4,
   "id": "371b5596",
   "metadata": {},
   "outputs": [
    {
     "data": {
      "text/html": [
       "<div>\n",
       "<style scoped>\n",
       "    .dataframe tbody tr th:only-of-type {\n",
       "        vertical-align: middle;\n",
       "    }\n",
       "\n",
       "    .dataframe tbody tr th {\n",
       "        vertical-align: top;\n",
       "    }\n",
       "\n",
       "    .dataframe thead th {\n",
       "        text-align: right;\n",
       "    }\n",
       "</style>\n",
       "<table border=\"1\" class=\"dataframe\">\n",
       "  <thead>\n",
       "    <tr style=\"text-align: right;\">\n",
       "      <th></th>\n",
       "      <th>Survived</th>\n",
       "      <th>Pclass</th>\n",
       "      <th>Age</th>\n",
       "      <th>SibSp</th>\n",
       "      <th>Parch</th>\n",
       "      <th>Fare</th>\n",
       "    </tr>\n",
       "  </thead>\n",
       "  <tbody>\n",
       "    <tr>\n",
       "      <th>count</th>\n",
       "      <td>891.000000</td>\n",
       "      <td>891.000000</td>\n",
       "      <td>714.000000</td>\n",
       "      <td>891.000000</td>\n",
       "      <td>891.000000</td>\n",
       "      <td>891.000000</td>\n",
       "    </tr>\n",
       "    <tr>\n",
       "      <th>mean</th>\n",
       "      <td>0.383838</td>\n",
       "      <td>2.308642</td>\n",
       "      <td>29.699118</td>\n",
       "      <td>0.523008</td>\n",
       "      <td>0.381594</td>\n",
       "      <td>32.204208</td>\n",
       "    </tr>\n",
       "    <tr>\n",
       "      <th>std</th>\n",
       "      <td>0.486592</td>\n",
       "      <td>0.836071</td>\n",
       "      <td>14.526497</td>\n",
       "      <td>1.102743</td>\n",
       "      <td>0.806057</td>\n",
       "      <td>49.693429</td>\n",
       "    </tr>\n",
       "    <tr>\n",
       "      <th>min</th>\n",
       "      <td>0.000000</td>\n",
       "      <td>1.000000</td>\n",
       "      <td>0.420000</td>\n",
       "      <td>0.000000</td>\n",
       "      <td>0.000000</td>\n",
       "      <td>0.000000</td>\n",
       "    </tr>\n",
       "    <tr>\n",
       "      <th>25%</th>\n",
       "      <td>0.000000</td>\n",
       "      <td>2.000000</td>\n",
       "      <td>20.125000</td>\n",
       "      <td>0.000000</td>\n",
       "      <td>0.000000</td>\n",
       "      <td>7.910400</td>\n",
       "    </tr>\n",
       "    <tr>\n",
       "      <th>50%</th>\n",
       "      <td>0.000000</td>\n",
       "      <td>3.000000</td>\n",
       "      <td>28.000000</td>\n",
       "      <td>0.000000</td>\n",
       "      <td>0.000000</td>\n",
       "      <td>14.454200</td>\n",
       "    </tr>\n",
       "    <tr>\n",
       "      <th>75%</th>\n",
       "      <td>1.000000</td>\n",
       "      <td>3.000000</td>\n",
       "      <td>38.000000</td>\n",
       "      <td>1.000000</td>\n",
       "      <td>0.000000</td>\n",
       "      <td>31.000000</td>\n",
       "    </tr>\n",
       "    <tr>\n",
       "      <th>max</th>\n",
       "      <td>1.000000</td>\n",
       "      <td>3.000000</td>\n",
       "      <td>80.000000</td>\n",
       "      <td>8.000000</td>\n",
       "      <td>6.000000</td>\n",
       "      <td>512.329200</td>\n",
       "    </tr>\n",
       "  </tbody>\n",
       "</table>\n",
       "</div>"
      ],
      "text/plain": [
       "         Survived      Pclass         Age       SibSp       Parch        Fare\n",
       "count  891.000000  891.000000  714.000000  891.000000  891.000000  891.000000\n",
       "mean     0.383838    2.308642   29.699118    0.523008    0.381594   32.204208\n",
       "std      0.486592    0.836071   14.526497    1.102743    0.806057   49.693429\n",
       "min      0.000000    1.000000    0.420000    0.000000    0.000000    0.000000\n",
       "25%      0.000000    2.000000   20.125000    0.000000    0.000000    7.910400\n",
       "50%      0.000000    3.000000   28.000000    0.000000    0.000000   14.454200\n",
       "75%      1.000000    3.000000   38.000000    1.000000    0.000000   31.000000\n",
       "max      1.000000    3.000000   80.000000    8.000000    6.000000  512.329200"
      ]
     },
     "execution_count": 4,
     "metadata": {},
     "output_type": "execute_result"
    }
   ],
   "source": [
    "#Distribution analysis of numeric columns\n",
    "titanic_df.describe()"
   ]
  },
  {
   "cell_type": "markdown",
   "id": "b293dcec",
   "metadata": {},
   "source": [
    "Insights:\n",
    "    1) As per data, there were infants as young as 4 months, and elderly people as old as 80 years\n",
    "    2) More than 50% of the passengers were travelling in 3rd(low) class --> does that lead to higher/lower survival rate??\n",
    "    3) More than 75% of the passengers were aged less than equal to 38, which also correlated(partially) the above point '2'"
   ]
  },
  {
   "cell_type": "code",
   "execution_count": 5,
   "id": "add63fda",
   "metadata": {},
   "outputs": [
    {
     "data": {
      "text/plain": [
       "Sex     Pclass\n",
       "female  1         34.611765\n",
       "        2         28.722973\n",
       "        3         21.750000\n",
       "male    1         41.281386\n",
       "        2         30.740707\n",
       "        3         26.507589\n",
       "Name: Age, dtype: float64"
      ]
     },
     "metadata": {},
     "output_type": "display_data"
    }
   ],
   "source": [
    "#Fix Age\n",
    "mean_ages = titanic_df.groupby(['Sex','Pclass'])['Age'].mean()\n",
    "display(mean_ages)"
   ]
  },
  {
   "cell_type": "code",
   "execution_count": 6,
   "id": "391a0e51",
   "metadata": {},
   "outputs": [],
   "source": [
    "#Custom function\n",
    "def replace_nan_age(row):\n",
    "    if pd.isnull(row['Age']):\n",
    "        return mean_ages[row['Sex'], row['Pclass']]\n",
    "    else:\n",
    "        return row['Age']"
   ]
  },
  {
   "cell_type": "code",
   "execution_count": 7,
   "id": "09a227df",
   "metadata": {},
   "outputs": [],
   "source": [
    "titanic_df['Age'] = titanic_df.apply(replace_nan_age, axis = 1)"
   ]
  },
  {
   "cell_type": "code",
   "execution_count": 8,
   "id": "9bcf3a1e",
   "metadata": {},
   "outputs": [
    {
     "name": "stdout",
     "output_type": "stream",
     "text": [
      "<class 'pandas.core.frame.DataFrame'>\n",
      "Int64Index: 891 entries, 1 to 891\n",
      "Data columns (total 11 columns):\n",
      " #   Column    Non-Null Count  Dtype  \n",
      "---  ------    --------------  -----  \n",
      " 0   Survived  891 non-null    int64  \n",
      " 1   Pclass    891 non-null    int64  \n",
      " 2   Name      891 non-null    object \n",
      " 3   Sex       891 non-null    object \n",
      " 4   Age       891 non-null    float64\n",
      " 5   SibSp     891 non-null    int64  \n",
      " 6   Parch     891 non-null    int64  \n",
      " 7   Ticket    891 non-null    object \n",
      " 8   Fare      891 non-null    float64\n",
      " 9   Cabin     204 non-null    object \n",
      " 10  Embarked  889 non-null    object \n",
      "dtypes: float64(2), int64(4), object(5)\n",
      "memory usage: 83.5+ KB\n"
     ]
    }
   ],
   "source": [
    "titanic_df.info()"
   ]
  },
  {
   "cell_type": "code",
   "execution_count": 9,
   "id": "73b54173",
   "metadata": {},
   "outputs": [
    {
     "data": {
      "text/html": [
       "<div>\n",
       "<style scoped>\n",
       "    .dataframe tbody tr th:only-of-type {\n",
       "        vertical-align: middle;\n",
       "    }\n",
       "\n",
       "    .dataframe tbody tr th {\n",
       "        vertical-align: top;\n",
       "    }\n",
       "\n",
       "    .dataframe thead th {\n",
       "        text-align: right;\n",
       "    }\n",
       "</style>\n",
       "<table border=\"1\" class=\"dataframe\">\n",
       "  <thead>\n",
       "    <tr style=\"text-align: right;\">\n",
       "      <th></th>\n",
       "      <th>Survived</th>\n",
       "      <th>Pclass</th>\n",
       "      <th>Age</th>\n",
       "      <th>SibSp</th>\n",
       "      <th>Parch</th>\n",
       "      <th>Fare</th>\n",
       "    </tr>\n",
       "  </thead>\n",
       "  <tbody>\n",
       "    <tr>\n",
       "      <th>count</th>\n",
       "      <td>891.000000</td>\n",
       "      <td>891.000000</td>\n",
       "      <td>891.000000</td>\n",
       "      <td>891.000000</td>\n",
       "      <td>891.000000</td>\n",
       "      <td>891.000000</td>\n",
       "    </tr>\n",
       "    <tr>\n",
       "      <th>mean</th>\n",
       "      <td>0.383838</td>\n",
       "      <td>2.308642</td>\n",
       "      <td>29.318643</td>\n",
       "      <td>0.523008</td>\n",
       "      <td>0.381594</td>\n",
       "      <td>32.204208</td>\n",
       "    </tr>\n",
       "    <tr>\n",
       "      <th>std</th>\n",
       "      <td>0.486592</td>\n",
       "      <td>0.836071</td>\n",
       "      <td>13.281103</td>\n",
       "      <td>1.102743</td>\n",
       "      <td>0.806057</td>\n",
       "      <td>49.693429</td>\n",
       "    </tr>\n",
       "    <tr>\n",
       "      <th>min</th>\n",
       "      <td>0.000000</td>\n",
       "      <td>1.000000</td>\n",
       "      <td>0.420000</td>\n",
       "      <td>0.000000</td>\n",
       "      <td>0.000000</td>\n",
       "      <td>0.000000</td>\n",
       "    </tr>\n",
       "    <tr>\n",
       "      <th>25%</th>\n",
       "      <td>0.000000</td>\n",
       "      <td>2.000000</td>\n",
       "      <td>21.750000</td>\n",
       "      <td>0.000000</td>\n",
       "      <td>0.000000</td>\n",
       "      <td>7.910400</td>\n",
       "    </tr>\n",
       "    <tr>\n",
       "      <th>50%</th>\n",
       "      <td>0.000000</td>\n",
       "      <td>3.000000</td>\n",
       "      <td>26.507589</td>\n",
       "      <td>0.000000</td>\n",
       "      <td>0.000000</td>\n",
       "      <td>14.454200</td>\n",
       "    </tr>\n",
       "    <tr>\n",
       "      <th>75%</th>\n",
       "      <td>1.000000</td>\n",
       "      <td>3.000000</td>\n",
       "      <td>36.000000</td>\n",
       "      <td>1.000000</td>\n",
       "      <td>0.000000</td>\n",
       "      <td>31.000000</td>\n",
       "    </tr>\n",
       "    <tr>\n",
       "      <th>max</th>\n",
       "      <td>1.000000</td>\n",
       "      <td>3.000000</td>\n",
       "      <td>80.000000</td>\n",
       "      <td>8.000000</td>\n",
       "      <td>6.000000</td>\n",
       "      <td>512.329200</td>\n",
       "    </tr>\n",
       "  </tbody>\n",
       "</table>\n",
       "</div>"
      ],
      "text/plain": [
       "         Survived      Pclass         Age       SibSp       Parch        Fare\n",
       "count  891.000000  891.000000  891.000000  891.000000  891.000000  891.000000\n",
       "mean     0.383838    2.308642   29.318643    0.523008    0.381594   32.204208\n",
       "std      0.486592    0.836071   13.281103    1.102743    0.806057   49.693429\n",
       "min      0.000000    1.000000    0.420000    0.000000    0.000000    0.000000\n",
       "25%      0.000000    2.000000   21.750000    0.000000    0.000000    7.910400\n",
       "50%      0.000000    3.000000   26.507589    0.000000    0.000000   14.454200\n",
       "75%      1.000000    3.000000   36.000000    1.000000    0.000000   31.000000\n",
       "max      1.000000    3.000000   80.000000    8.000000    6.000000  512.329200"
      ]
     },
     "execution_count": 9,
     "metadata": {},
     "output_type": "execute_result"
    }
   ],
   "source": [
    "titanic_df.describe()"
   ]
  },
  {
   "cell_type": "code",
   "execution_count": 10,
   "id": "f6753212",
   "metadata": {},
   "outputs": [
    {
     "data": {
      "text/plain": [
       "Text(0.5, 1.0, 'Number of parent/children aboard')"
      ]
     },
     "execution_count": 10,
     "metadata": {},
     "output_type": "execute_result"
    },
    {
     "data": {
      "image/png": "[encoded data removed]",
      "text/plain": [
       "<Figure size 648x432 with 1 Axes>"
      ]
     },
     "metadata": {},
     "output_type": "display_data"
    }
   ],
   "source": [
    "titanic_df.Parch.hist()\n",
    "plt.xlabel('Parch')\n",
    "plt.ylabel('Passengers')\n",
    "plt.title('Number of parent/children aboard', fontweight = \"bold\", fontname = \"Times New Roman\")"
   ]
  },
  {
   "cell_type": "code",
   "execution_count": 11,
   "id": "9f577897",
   "metadata": {},
   "outputs": [
    {
     "data": {
      "text/plain": [
       "Text(0.5, 1.0, 'Number of Siblings/Spouses aboard')"
      ]
     },
     "execution_count": 11,
     "metadata": {},
     "output_type": "execute_result"
    },
    {
     "data": {
      "image/png": "[encoded data removed]",
      "text/plain": [
       "<Figure size 648x432 with 1 Axes>"
      ]
     },
     "metadata": {},
     "output_type": "display_data"
    }
   ],
   "source": [
    "titanic_df.SibSp.hist()\n",
    "plt.xlabel('SibSp')\n",
    "plt.ylabel('Passengers')\n",
    "plt.title('Number of Siblings/Spouses aboard',fontweight = \"bold\", fontname = \"Times New Roman\")"
   ]
  },
  {
   "cell_type": "markdown",
   "id": "70f5fad6",
   "metadata": {},
   "source": [
    "# We interpret below Insights:\n",
    "    1) Oldest passenger onboard was 80 years old and youngest roughly 5 months old\n",
    "    2) Avearge age of passengers onboard is less than 30 years, that means mostly young paasengers\n",
    "    3) The Mean survival rate on Titanic was/is 38%\n",
    "    4) Maximum fare charged was $512\n",
    "    5) Maximum number of passengers were travelling were either without spuse or children\n",
    "    6) We have cabin details for only 214 passengers out of 891 recorded passengers in the current dataset"
   ]
  },
  {
   "cell_type": "markdown",
   "id": "efca5073",
   "metadata": {},
   "source": [
    "# The above insights raises few question:\n",
    "    1) Did the cabin/passenger class(Pclass) in which passengers were travelling make any difference in the survival rate??\n",
    "    2) Impact of gender on survival rate??\n",
    "    3) Passengers travelling with others(children && spouse && sibling) higher survival rate\n",
    "    4) Age group impact on survival rate\n",
    "    5) (Male vs. Female) vs. Pclass on survival rate"
   ]
  },
  {
   "cell_type": "markdown",
   "id": "18443ee3",
   "metadata": {},
   "source": [
    "# Question1\n",
    "#Hypothesis: passengers in higher class have higher survival rate"
   ]
  },
  {
   "cell_type": "code",
   "execution_count": 12,
   "id": "0d27d90b",
   "metadata": {},
   "outputs": [
    {
     "data": {
      "text/html": [
       "<div>\n",
       "<style scoped>\n",
       "    .dataframe tbody tr th:only-of-type {\n",
       "        vertical-align: middle;\n",
       "    }\n",
       "\n",
       "    .dataframe tbody tr th {\n",
       "        vertical-align: top;\n",
       "    }\n",
       "\n",
       "    .dataframe thead th {\n",
       "        text-align: right;\n",
       "    }\n",
       "</style>\n",
       "<table border=\"1\" class=\"dataframe\">\n",
       "  <thead>\n",
       "    <tr style=\"text-align: right;\">\n",
       "      <th></th>\n",
       "      <th>Survived</th>\n",
       "      <th>Total</th>\n",
       "    </tr>\n",
       "    <tr>\n",
       "      <th>Pclass</th>\n",
       "      <th></th>\n",
       "      <th></th>\n",
       "    </tr>\n",
       "  </thead>\n",
       "  <tbody>\n",
       "    <tr>\n",
       "      <th>1</th>\n",
       "      <td>136</td>\n",
       "      <td>216</td>\n",
       "    </tr>\n",
       "    <tr>\n",
       "      <th>2</th>\n",
       "      <td>87</td>\n",
       "      <td>184</td>\n",
       "    </tr>\n",
       "    <tr>\n",
       "      <th>3</th>\n",
       "      <td>119</td>\n",
       "      <td>491</td>\n",
       "    </tr>\n",
       "  </tbody>\n",
       "</table>\n",
       "</div>"
      ],
      "text/plain": [
       "        Survived  Total\n",
       "Pclass                 \n",
       "1            136    216\n",
       "2             87    184\n",
       "3            119    491"
      ]
     },
     "execution_count": 12,
     "metadata": {},
     "output_type": "execute_result"
    }
   ],
   "source": [
    "#Subset the data for required columns\n",
    "survived_pclass_df = titanic_df[['Survived','Pclass']]\n",
    "survived_pclass_df.head(6)\n",
    "\n",
    "# Calculate survival rate by class\n",
    "survived_by_pclass = survived_pclass_df.groupby(['Pclass']).sum()\n",
    "total_by_pclass = survived_pclass_df.groupby(['Pclass']).count()\n",
    "\n",
    "total_by_pclass.rename(columns = {'Survived': 'Total'}, inplace = True)\n",
    "\n",
    "#merge the 2 dataframes\n",
    "survived_total_by_pclass = pd.merge(survived_by_pclass, total_by_pclass, left_index = True, right_index = True)\n",
    "# Incase there are no index columns, the use:  newdf = pd.merge(df1, df2, how = 'left', on = 'column')\n",
    "survived_total_by_pclass"
   ]
  },
  {
   "cell_type": "code",
   "execution_count": 13,
   "id": "decf2845",
   "metadata": {},
   "outputs": [
    {
     "data": {
      "text/html": [
       "<div>\n",
       "<style scoped>\n",
       "    .dataframe tbody tr th:only-of-type {\n",
       "        vertical-align: middle;\n",
       "    }\n",
       "\n",
       "    .dataframe tbody tr th {\n",
       "        vertical-align: top;\n",
       "    }\n",
       "\n",
       "    .dataframe thead th {\n",
       "        text-align: right;\n",
       "    }\n",
       "</style>\n",
       "<table border=\"1\" class=\"dataframe\">\n",
       "  <thead>\n",
       "    <tr style=\"text-align: right;\">\n",
       "      <th></th>\n",
       "      <th>Survived</th>\n",
       "      <th>Total</th>\n",
       "      <th>Percentage</th>\n",
       "    </tr>\n",
       "    <tr>\n",
       "      <th>Pclass</th>\n",
       "      <th></th>\n",
       "      <th></th>\n",
       "      <th></th>\n",
       "    </tr>\n",
       "  </thead>\n",
       "  <tbody>\n",
       "    <tr>\n",
       "      <th>1</th>\n",
       "      <td>136</td>\n",
       "      <td>216</td>\n",
       "      <td>62.962963</td>\n",
       "    </tr>\n",
       "    <tr>\n",
       "      <th>2</th>\n",
       "      <td>87</td>\n",
       "      <td>184</td>\n",
       "      <td>47.282609</td>\n",
       "    </tr>\n",
       "    <tr>\n",
       "      <th>3</th>\n",
       "      <td>119</td>\n",
       "      <td>491</td>\n",
       "      <td>24.236253</td>\n",
       "    </tr>\n",
       "  </tbody>\n",
       "</table>\n",
       "</div>"
      ],
      "text/plain": [
       "        Survived  Total  Percentage\n",
       "Pclass                             \n",
       "1            136    216   62.962963\n",
       "2             87    184   47.282609\n",
       "3            119    491   24.236253"
      ]
     },
     "execution_count": 13,
     "metadata": {},
     "output_type": "execute_result"
    }
   ],
   "source": [
    "#Calculate survival rate by each class\n",
    "percent_survived = (survived_total_by_pclass['Survived']/survived_total_by_pclass['Total']) * 100\n",
    "survived_total_by_pclass['Percentage'] = percent_survived\n",
    "\n",
    "survived_total_by_pclass"
   ]
  },
  {
   "cell_type": "code",
   "execution_count": 14,
   "id": "c7be41fb",
   "metadata": {},
   "outputs": [
    {
     "data": {
      "text/plain": [
       "<matplotlib.legend.Legend at 0x1bc45b1ecd0>"
      ]
     },
     "execution_count": 14,
     "metadata": {},
     "output_type": "execute_result"
    },
    {
     "data": {
      "image/png": "[encoded data removed]",
      "text/plain": [
       "<Figure size 648x432 with 1 Axes>"
      ]
     },
     "metadata": {},
     "output_type": "display_data"
    }
   ],
   "source": [
    "# Plotting the above story\n",
    "\n",
    "x = survived_total_by_pclass.index.values\n",
    "ht = survived_total_by_pclass.Total\n",
    "hs = survived_total_by_pclass.Survived\n",
    "\n",
    "pht = plt.bar(x, ht)\n",
    "phs = plt.bar(x, hs)\n",
    "\n",
    "plt.xticks(x,x)\n",
    "plt.xlabel('Pclass')\n",
    "plt.ylabel('Passengers')\n",
    "plt.title('Survivors by Class')\n",
    "\n",
    "plt.legend([pht,phs],['Died', 'Survived'])"
   ]
  },
  {
   "cell_type": "markdown",
   "id": "500e0286",
   "metadata": {},
   "source": [
    "# Conclusion on Q1:\n",
    "    From the above representations, it is evident that 1st Class passengers, had the highest survival rate which \n",
    "    gradually decreases towards the lower class. The least survival rate in the 3rd class is 24%\n",
    "    The survival rate of a passenger in 3rd class was/is even lower than the average survival rate on the boat (~38%)"
   ]
  },
  {
   "cell_type": "markdown",
   "id": "095cbc4e",
   "metadata": {},
   "source": [
    "# Question2:\n",
    "Hypothesis: Female passengers had a higher survival rate"
   ]
  },
  {
   "cell_type": "code",
   "execution_count": 15,
   "id": "fd40a8cb",
   "metadata": {},
   "outputs": [
    {
     "data": {
      "text/plain": [
       "Sex\n",
       "female    233\n",
       "male      109\n",
       "Name: Survived, dtype: int64"
      ]
     },
     "metadata": {},
     "output_type": "display_data"
    },
    {
     "data": {
      "text/plain": [
       "Sex\n",
       "female    314\n",
       "male      577\n",
       "Name: Total, dtype: int64"
      ]
     },
     "metadata": {},
     "output_type": "display_data"
    },
    {
     "data": {
      "text/html": [
       "<div>\n",
       "<style scoped>\n",
       "    .dataframe tbody tr th:only-of-type {\n",
       "        vertical-align: middle;\n",
       "    }\n",
       "\n",
       "    .dataframe tbody tr th {\n",
       "        vertical-align: top;\n",
       "    }\n",
       "\n",
       "    .dataframe thead th {\n",
       "        text-align: right;\n",
       "    }\n",
       "</style>\n",
       "<table border=\"1\" class=\"dataframe\">\n",
       "  <thead>\n",
       "    <tr style=\"text-align: right;\">\n",
       "      <th></th>\n",
       "      <th>Survived</th>\n",
       "      <th>Total</th>\n",
       "    </tr>\n",
       "    <tr>\n",
       "      <th>Sex</th>\n",
       "      <th></th>\n",
       "      <th></th>\n",
       "    </tr>\n",
       "  </thead>\n",
       "  <tbody>\n",
       "    <tr>\n",
       "      <th>female</th>\n",
       "      <td>233</td>\n",
       "      <td>314</td>\n",
       "    </tr>\n",
       "    <tr>\n",
       "      <th>male</th>\n",
       "      <td>109</td>\n",
       "      <td>577</td>\n",
       "    </tr>\n",
       "  </tbody>\n",
       "</table>\n",
       "</div>"
      ],
      "text/plain": [
       "        Survived  Total\n",
       "Sex                    \n",
       "female       233    314\n",
       "male         109    577"
      ]
     },
     "execution_count": 15,
     "metadata": {},
     "output_type": "execute_result"
    }
   ],
   "source": [
    "# Calculate Total by Gender\n",
    "\n",
    "group_by_gender  = titanic_df.groupby('Sex')\n",
    "\n",
    "#calculate survived by gender\n",
    "survived_by_gender = group_by_gender['Survived'].sum()\n",
    "survived_by_gender.name = 'Survived'\n",
    "display(survived_by_gender)\n",
    "\n",
    "#calculate totalby gender\n",
    "total_by_gender = group_by_gender['Survived'].size()\n",
    "total_by_gender.name = 'Total'\n",
    "display(total_by_gender)\n",
    "\n",
    "#Concat\n",
    "survived_total_by_gender = pd.concat([survived_by_gender, total_by_gender], axis = 1)\n",
    "survived_total_by_gender"
   ]
  },
  {
   "cell_type": "code",
   "execution_count": 16,
   "id": "7958ee8f",
   "metadata": {},
   "outputs": [
    {
     "data": {
      "text/html": [
       "<div>\n",
       "<style scoped>\n",
       "    .dataframe tbody tr th:only-of-type {\n",
       "        vertical-align: middle;\n",
       "    }\n",
       "\n",
       "    .dataframe tbody tr th {\n",
       "        vertical-align: top;\n",
       "    }\n",
       "\n",
       "    .dataframe thead th {\n",
       "        text-align: right;\n",
       "    }\n",
       "</style>\n",
       "<table border=\"1\" class=\"dataframe\">\n",
       "  <thead>\n",
       "    <tr style=\"text-align: right;\">\n",
       "      <th></th>\n",
       "      <th>Survived</th>\n",
       "      <th>Total</th>\n",
       "      <th>Percent</th>\n",
       "    </tr>\n",
       "    <tr>\n",
       "      <th>Sex</th>\n",
       "      <th></th>\n",
       "      <th></th>\n",
       "      <th></th>\n",
       "    </tr>\n",
       "  </thead>\n",
       "  <tbody>\n",
       "    <tr>\n",
       "      <th>female</th>\n",
       "      <td>233</td>\n",
       "      <td>314</td>\n",
       "      <td>74.203822</td>\n",
       "    </tr>\n",
       "    <tr>\n",
       "      <th>male</th>\n",
       "      <td>109</td>\n",
       "      <td>577</td>\n",
       "      <td>18.890815</td>\n",
       "    </tr>\n",
       "  </tbody>\n",
       "</table>\n",
       "</div>"
      ],
      "text/plain": [
       "        Survived  Total    Percent\n",
       "Sex                               \n",
       "female       233    314  74.203822\n",
       "male         109    577  18.890815"
      ]
     },
     "execution_count": 16,
     "metadata": {},
     "output_type": "execute_result"
    }
   ],
   "source": [
    "#Percentage\n",
    "percent_survived = survived_total_by_gender['Survived'] / survived_total_by_gender['Total'] * 100\n",
    "survived_total_by_gender['Percent'] = percent_survived\n",
    "\n",
    "\n",
    "survived_total_by_gender"
   ]
  },
  {
   "cell_type": "code",
   "execution_count": 17,
   "id": "d4ea5eb7",
   "metadata": {},
   "outputs": [
    {
     "data": {
      "text/plain": [
       "<matplotlib.legend.Legend at 0x1bc45d97ee0>"
      ]
     },
     "execution_count": 17,
     "metadata": {},
     "output_type": "execute_result"
    },
    {
     "data": {
      "image/png": "[encoded data removed]",
      "text/plain": [
       "<Figure size 648x432 with 1 Axes>"
      ]
     },
     "metadata": {},
     "output_type": "display_data"
    }
   ],
   "source": [
    "# Plotting the above story\n",
    "\n",
    "#x = survived_total_by_pclass.index.values\n",
    "x = range(len(survived_total_by_gender.index.values))\n",
    "ht = survived_total_by_gender.Total\n",
    "hs = survived_total_by_gender.Survived\n",
    "\n",
    "pht = plt.bar(x, ht)\n",
    "phs = plt.bar(x, hs)\n",
    "\n",
    "plt.xticks(x,survived_total_by_gender.index.values)\n",
    "plt.xlabel('Sex')\n",
    "plt.ylabel('Passengers')\n",
    "plt.title('Survivors by Gender')\n",
    "\n",
    "plt.legend([pht,phs],['Died', 'Survived'])"
   ]
  },
  {
   "cell_type": "markdown",
   "id": "48366fc0",
   "metadata": {},
   "source": [
    "# Conclusion on Q2:\n",
    "    From the analysis above, we can interpret that female passenger had a comparatively higher survival rate which is 74%. \n",
    "    Whereas the survival rate of male passengers was/is lower than average ans tsnads at 18%. So female survival rate is roughly \n",
    "    4 times than of male passengers"
   ]
  },
  {
   "cell_type": "markdown",
   "id": "408adff0",
   "metadata": {},
   "source": [
    "# Question 3 : Did passengers accompanied by someone survided more??\n",
    "Hypothesis: Passengers travelling with other had a higher survival rate"
   ]
  },
  {
   "cell_type": "code",
   "execution_count": 20,
   "id": "d1b1a211",
   "metadata": {},
   "outputs": [
    {
     "name": "stdout",
     "output_type": "stream",
     "text": [
      "Not alone - describe\n"
     ]
    },
    {
     "data": {
      "text/html": [
       "<div>\n",
       "<style scoped>\n",
       "    .dataframe tbody tr th:only-of-type {\n",
       "        vertical-align: middle;\n",
       "    }\n",
       "\n",
       "    .dataframe tbody tr th {\n",
       "        vertical-align: top;\n",
       "    }\n",
       "\n",
       "    .dataframe thead th {\n",
       "        text-align: right;\n",
       "    }\n",
       "</style>\n",
       "<table border=\"1\" class=\"dataframe\">\n",
       "  <thead>\n",
       "    <tr style=\"text-align: right;\">\n",
       "      <th></th>\n",
       "      <th>Survived</th>\n",
       "      <th>Pclass</th>\n",
       "      <th>Age</th>\n",
       "      <th>SibSp</th>\n",
       "      <th>Parch</th>\n",
       "      <th>Fare</th>\n",
       "    </tr>\n",
       "  </thead>\n",
       "  <tbody>\n",
       "    <tr>\n",
       "      <th>count</th>\n",
       "      <td>354.000000</td>\n",
       "      <td>354.000000</td>\n",
       "      <td>354.000000</td>\n",
       "      <td>354.000000</td>\n",
       "      <td>354.000000</td>\n",
       "      <td>354.000000</td>\n",
       "    </tr>\n",
       "    <tr>\n",
       "      <th>mean</th>\n",
       "      <td>0.505650</td>\n",
       "      <td>2.169492</td>\n",
       "      <td>26.316614</td>\n",
       "      <td>1.316384</td>\n",
       "      <td>0.960452</td>\n",
       "      <td>48.832275</td>\n",
       "    </tr>\n",
       "    <tr>\n",
       "      <th>std</th>\n",
       "      <td>0.500676</td>\n",
       "      <td>0.864520</td>\n",
       "      <td>14.901225</td>\n",
       "      <td>1.420774</td>\n",
       "      <td>1.039512</td>\n",
       "      <td>55.307615</td>\n",
       "    </tr>\n",
       "    <tr>\n",
       "      <th>min</th>\n",
       "      <td>0.000000</td>\n",
       "      <td>1.000000</td>\n",
       "      <td>0.420000</td>\n",
       "      <td>0.000000</td>\n",
       "      <td>0.000000</td>\n",
       "      <td>6.495800</td>\n",
       "    </tr>\n",
       "    <tr>\n",
       "      <th>25%</th>\n",
       "      <td>0.000000</td>\n",
       "      <td>1.000000</td>\n",
       "      <td>17.000000</td>\n",
       "      <td>1.000000</td>\n",
       "      <td>0.000000</td>\n",
       "      <td>18.000000</td>\n",
       "    </tr>\n",
       "    <tr>\n",
       "      <th>50%</th>\n",
       "      <td>1.000000</td>\n",
       "      <td>2.000000</td>\n",
       "      <td>26.000000</td>\n",
       "      <td>1.000000</td>\n",
       "      <td>1.000000</td>\n",
       "      <td>27.750000</td>\n",
       "    </tr>\n",
       "    <tr>\n",
       "      <th>75%</th>\n",
       "      <td>1.000000</td>\n",
       "      <td>3.000000</td>\n",
       "      <td>36.000000</td>\n",
       "      <td>1.000000</td>\n",
       "      <td>2.000000</td>\n",
       "      <td>59.044800</td>\n",
       "    </tr>\n",
       "    <tr>\n",
       "      <th>max</th>\n",
       "      <td>1.000000</td>\n",
       "      <td>3.000000</td>\n",
       "      <td>70.000000</td>\n",
       "      <td>8.000000</td>\n",
       "      <td>6.000000</td>\n",
       "      <td>512.329200</td>\n",
       "    </tr>\n",
       "  </tbody>\n",
       "</table>\n",
       "</div>"
      ],
      "text/plain": [
       "         Survived      Pclass         Age       SibSp       Parch        Fare\n",
       "count  354.000000  354.000000  354.000000  354.000000  354.000000  354.000000\n",
       "mean     0.505650    2.169492   26.316614    1.316384    0.960452   48.832275\n",
       "std      0.500676    0.864520   14.901225    1.420774    1.039512   55.307615\n",
       "min      0.000000    1.000000    0.420000    0.000000    0.000000    6.495800\n",
       "25%      0.000000    1.000000   17.000000    1.000000    0.000000   18.000000\n",
       "50%      1.000000    2.000000   26.000000    1.000000    1.000000   27.750000\n",
       "75%      1.000000    3.000000   36.000000    1.000000    2.000000   59.044800\n",
       "max      1.000000    3.000000   70.000000    8.000000    6.000000  512.329200"
      ]
     },
     "metadata": {},
     "output_type": "display_data"
    },
    {
     "name": "stdout",
     "output_type": "stream",
     "text": [
      "Alone - describe\n"
     ]
    },
    {
     "data": {
      "text/html": [
       "<div>\n",
       "<style scoped>\n",
       "    .dataframe tbody tr th:only-of-type {\n",
       "        vertical-align: middle;\n",
       "    }\n",
       "\n",
       "    .dataframe tbody tr th {\n",
       "        vertical-align: top;\n",
       "    }\n",
       "\n",
       "    .dataframe thead th {\n",
       "        text-align: right;\n",
       "    }\n",
       "</style>\n",
       "<table border=\"1\" class=\"dataframe\">\n",
       "  <thead>\n",
       "    <tr style=\"text-align: right;\">\n",
       "      <th></th>\n",
       "      <th>Survived</th>\n",
       "      <th>Pclass</th>\n",
       "      <th>Age</th>\n",
       "      <th>SibSp</th>\n",
       "      <th>Parch</th>\n",
       "      <th>Fare</th>\n",
       "    </tr>\n",
       "  </thead>\n",
       "  <tbody>\n",
       "    <tr>\n",
       "      <th>count</th>\n",
       "      <td>537.000000</td>\n",
       "      <td>537.000000</td>\n",
       "      <td>537.000000</td>\n",
       "      <td>537.0</td>\n",
       "      <td>537.0</td>\n",
       "      <td>537.000000</td>\n",
       "    </tr>\n",
       "    <tr>\n",
       "      <th>mean</th>\n",
       "      <td>0.303538</td>\n",
       "      <td>2.400372</td>\n",
       "      <td>31.297634</td>\n",
       "      <td>0.0</td>\n",
       "      <td>0.0</td>\n",
       "      <td>21.242689</td>\n",
       "    </tr>\n",
       "    <tr>\n",
       "      <th>std</th>\n",
       "      <td>0.460214</td>\n",
       "      <td>0.804511</td>\n",
       "      <td>11.694910</td>\n",
       "      <td>0.0</td>\n",
       "      <td>0.0</td>\n",
       "      <td>42.223510</td>\n",
       "    </tr>\n",
       "    <tr>\n",
       "      <th>min</th>\n",
       "      <td>0.000000</td>\n",
       "      <td>1.000000</td>\n",
       "      <td>5.000000</td>\n",
       "      <td>0.0</td>\n",
       "      <td>0.0</td>\n",
       "      <td>0.000000</td>\n",
       "    </tr>\n",
       "    <tr>\n",
       "      <th>25%</th>\n",
       "      <td>0.000000</td>\n",
       "      <td>2.000000</td>\n",
       "      <td>23.000000</td>\n",
       "      <td>0.0</td>\n",
       "      <td>0.0</td>\n",
       "      <td>7.775000</td>\n",
       "    </tr>\n",
       "    <tr>\n",
       "      <th>50%</th>\n",
       "      <td>0.000000</td>\n",
       "      <td>3.000000</td>\n",
       "      <td>27.000000</td>\n",
       "      <td>0.0</td>\n",
       "      <td>0.0</td>\n",
       "      <td>8.137500</td>\n",
       "    </tr>\n",
       "    <tr>\n",
       "      <th>75%</th>\n",
       "      <td>1.000000</td>\n",
       "      <td>3.000000</td>\n",
       "      <td>36.000000</td>\n",
       "      <td>0.0</td>\n",
       "      <td>0.0</td>\n",
       "      <td>15.000000</td>\n",
       "    </tr>\n",
       "    <tr>\n",
       "      <th>max</th>\n",
       "      <td>1.000000</td>\n",
       "      <td>3.000000</td>\n",
       "      <td>80.000000</td>\n",
       "      <td>0.0</td>\n",
       "      <td>0.0</td>\n",
       "      <td>512.329200</td>\n",
       "    </tr>\n",
       "  </tbody>\n",
       "</table>\n",
       "</div>"
      ],
      "text/plain": [
       "         Survived      Pclass         Age  SibSp  Parch        Fare\n",
       "count  537.000000  537.000000  537.000000  537.0  537.0  537.000000\n",
       "mean     0.303538    2.400372   31.297634    0.0    0.0   21.242689\n",
       "std      0.460214    0.804511   11.694910    0.0    0.0   42.223510\n",
       "min      0.000000    1.000000    5.000000    0.0    0.0    0.000000\n",
       "25%      0.000000    2.000000   23.000000    0.0    0.0    7.775000\n",
       "50%      0.000000    3.000000   27.000000    0.0    0.0    8.137500\n",
       "75%      1.000000    3.000000   36.000000    0.0    0.0   15.000000\n",
       "max      1.000000    3.000000   80.000000    0.0    0.0  512.329200"
      ]
     },
     "metadata": {},
     "output_type": "display_data"
    }
   ],
   "source": [
    "is_not_alone = (titanic_df.SibSp + titanic_df.Parch) >=1\n",
    "passengers_not_alone = titanic_df[is_not_alone]\n",
    "\n",
    "is_alone = (titanic_df.SibSp + titanic_df.Parch) == 0\n",
    "passengers_alone = titanic_df[is_alone]\n",
    "\n",
    "print('Not alone - describe')\n",
    "display(passengers_not_alone.describe())\n",
    "print('Alone - describe')\n",
    "display(passengers_alone.describe())"
   ]
  },
  {
   "cell_type": "code",
   "execution_count": 23,
   "id": "f48f42f8",
   "metadata": {},
   "outputs": [
    {
     "data": {
      "text/plain": [
       "Text(0.5, 1.0, \"Alone & Not alone passenger's Ages\")"
      ]
     },
     "execution_count": 23,
     "metadata": {},
     "output_type": "execute_result"
    },
    {
     "data": {
      "image/png": "[encoded data removed]",
      "text/plain": [
       "<Figure size 648x432 with 1 Axes>"
      ]
     },
     "metadata": {},
     "output_type": "display_data"
    }
   ],
   "source": [
    "passengers_not_alone.Age.hist(label = 'Not Alone')\n",
    "passengers_alone.Age.hist(label = 'Alone', alpha = 0.6)\n",
    "\n",
    "plt.xlabel('Age')\n",
    "plt.ylabel('Passengers')\n",
    "plt.legend(loc = 'best')\n",
    "plt.title('Alone & Not alone passenger\\'s Ages')"
   ]
  },
  {
   "cell_type": "markdown",
   "id": "c6de2cb2",
   "metadata": {},
   "source": [
    "# From the above visualization:\n",
    "\n",
    "1) Those in the age group of 0 to 10, that is kids, were not alone - which makes sense\n",
    "2) There however is probably 1 kid aged 5 to 10 who was alone as per dataset\n",
    "3) There is an 80 year old person also was travelling alone\n",
    "4) Except for age group 0 to 10, for all other age groups, passengers those who were travelling alone outnumbered those travelling in compamy"
   ]
  },
  {
   "cell_type": "code",
   "execution_count": 24,
   "id": "94a9bec8",
   "metadata": {},
   "outputs": [
    {
     "data": {
      "text/html": [
       "<div>\n",
       "<style scoped>\n",
       "    .dataframe tbody tr th:only-of-type {\n",
       "        vertical-align: middle;\n",
       "    }\n",
       "\n",
       "    .dataframe tbody tr th {\n",
       "        vertical-align: top;\n",
       "    }\n",
       "\n",
       "    .dataframe thead th {\n",
       "        text-align: right;\n",
       "    }\n",
       "</style>\n",
       "<table border=\"1\" class=\"dataframe\">\n",
       "  <thead>\n",
       "    <tr style=\"text-align: right;\">\n",
       "      <th></th>\n",
       "      <th>survived</th>\n",
       "      <th>Total</th>\n",
       "    </tr>\n",
       "  </thead>\n",
       "  <tbody>\n",
       "    <tr>\n",
       "      <th>Alone</th>\n",
       "      <td>163</td>\n",
       "      <td>537</td>\n",
       "    </tr>\n",
       "    <tr>\n",
       "      <th>Not Alone</th>\n",
       "      <td>179</td>\n",
       "      <td>354</td>\n",
       "    </tr>\n",
       "  </tbody>\n",
       "</table>\n",
       "</div>"
      ],
      "text/plain": [
       "           survived  Total\n",
       "Alone           163    537\n",
       "Not Alone       179    354"
      ]
     },
     "execution_count": 24,
     "metadata": {},
     "output_type": "execute_result"
    }
   ],
   "source": [
    "# Lets try their survival rate by proportion\n",
    "\n",
    "notalone = np.where((titanic_df.SibSp + titanic_df.Parch) >=1 , 'Not Alone', 'Alone')\n",
    "lone_summary = titanic_df.groupby(notalone, as_index=False)['Survived'].agg([np.sum,np.size])\n",
    "lone_summary = lone_summary.rename(columns = {'sum':'survived', 'size':'Total'})\n",
    "\n",
    "lone_summary"
   ]
  },
  {
   "cell_type": "code",
   "execution_count": 38,
   "id": "35a11b02",
   "metadata": {
    "scrolled": true
   },
   "outputs": [
    {
     "data": {
      "text/plain": [
       "array(['Not Alone', 'Not Alone', 'Alone', 'Not Alone', 'Alone', 'Alone',\n",
       "       'Alone', 'Not Alone', 'Not Alone', 'Not Alone', 'Not Alone',\n",
       "       'Alone', 'Alone', 'Not Alone', 'Alone', 'Alone', 'Not Alone',\n",
       "       'Alone', 'Not Alone', 'Alone', 'Alone', 'Alone', 'Alone', 'Alone',\n",
       "       'Not Alone', 'Not Alone', 'Alone', 'Not Alone', 'Alone', 'Alone',\n",
       "       'Alone', 'Not Alone', 'Alone', 'Alone', 'Not Alone', 'Not Alone',\n",
       "       'Alone', 'Alone', 'Not Alone', 'Not Alone', 'Not Alone',\n",
       "       'Not Alone', 'Alone', 'Not Alone', 'Alone', 'Alone', 'Not Alone',\n",
       "       'Alone', 'Not Alone', 'Not Alone', 'Not Alone', 'Alone',\n",
       "       'Not Alone', 'Not Alone', 'Not Alone', 'Alone', 'Alone', 'Alone',\n",
       "       'Not Alone', 'Not Alone', 'Alone', 'Alone', 'Not Alone',\n",
       "       'Not Alone', 'Alone', 'Not Alone', 'Alone', 'Alone', 'Not Alone',\n",
       "       'Not Alone', 'Alone', 'Not Alone', 'Alone', 'Not Alone', 'Alone',\n",
       "       'Alone', 'Alone', 'Alone', 'Not Alone', 'Alone', 'Alone', 'Alone',\n",
       "       'Alone', 'Alone', 'Alone', 'Not Alone', 'Not Alone', 'Alone',\n",
       "       'Not Alone', 'Alone', 'Alone', 'Alone', 'Not Alone', 'Not Alone',\n",
       "       'Alone', 'Alone', 'Alone', 'Not Alone', 'Not Alone', 'Not Alone',\n",
       "       'Alone', 'Alone', 'Not Alone', 'Alone', 'Not Alone', 'Alone',\n",
       "       'Alone', 'Alone', 'Alone', 'Not Alone', 'Alone', 'Not Alone',\n",
       "       'Alone', 'Not Alone', 'Alone', 'Alone', 'Alone', 'Not Alone',\n",
       "       'Not Alone', 'Not Alone', 'Not Alone', 'Alone', 'Not Alone',\n",
       "       'Alone', 'Not Alone', 'Not Alone', 'Alone', 'Alone', 'Not Alone',\n",
       "       'Alone', 'Alone', 'Alone', 'Not Alone', 'Not Alone', 'Alone',\n",
       "       'Alone', 'Not Alone', 'Not Alone', 'Alone', 'Alone', 'Not Alone',\n",
       "       'Alone', 'Not Alone', 'Alone', 'Alone', 'Not Alone', 'Alone',\n",
       "       'Not Alone', 'Not Alone', 'Alone', 'Alone', 'Not Alone', 'Alone',\n",
       "       'Not Alone', 'Alone', 'Not Alone', 'Alone', 'Alone', 'Alone',\n",
       "       'Not Alone', 'Not Alone', 'Alone', 'Alone', 'Alone', 'Not Alone',\n",
       "       'Not Alone', 'Not Alone', 'Not Alone', 'Alone', 'Alone', 'Alone',\n",
       "       'Not Alone', 'Not Alone', 'Alone', 'Alone', 'Not Alone',\n",
       "       'Not Alone', 'Alone', 'Alone', 'Alone', 'Not Alone', 'Alone',\n",
       "       'Not Alone', 'Not Alone', 'Not Alone', 'Alone', 'Not Alone',\n",
       "       'Alone', 'Not Alone', 'Alone', 'Alone', 'Alone', 'Not Alone',\n",
       "       'Not Alone', 'Alone', 'Alone', 'Alone', 'Not Alone', 'Alone',\n",
       "       'Alone', 'Alone', 'Not Alone', 'Alone', 'Alone', 'Alone',\n",
       "       'Not Alone', 'Not Alone', 'Alone', 'Alone', 'Alone', 'Alone',\n",
       "       'Alone', 'Alone', 'Alone', 'Not Alone', 'Not Alone', 'Alone',\n",
       "       'Not Alone', 'Alone', 'Alone', 'Alone', 'Alone', 'Alone', 'Alone',\n",
       "       'Not Alone', 'Alone', 'Alone', 'Alone', 'Alone', 'Not Alone',\n",
       "       'Not Alone', 'Alone', 'Alone', 'Not Alone', 'Alone', 'Alone',\n",
       "       'Not Alone', 'Not Alone', 'Alone', 'Alone', 'Not Alone',\n",
       "       'Not Alone', 'Alone', 'Alone', 'Alone', 'Not Alone', 'Alone',\n",
       "       'Not Alone', 'Not Alone', 'Not Alone', 'Alone', 'Not Alone',\n",
       "       'Alone', 'Not Alone', 'Not Alone', 'Not Alone', 'Alone', 'Alone',\n",
       "       'Alone', 'Not Alone', 'Alone', 'Not Alone', 'Not Alone', 'Alone',\n",
       "       'Alone', 'Alone', 'Not Alone', 'Not Alone', 'Not Alone', 'Alone',\n",
       "       'Alone', 'Alone', 'Not Alone', 'Not Alone', 'Alone', 'Not Alone',\n",
       "       'Alone', 'Alone', 'Not Alone', 'Not Alone', 'Alone', 'Alone',\n",
       "       'Alone', 'Alone', 'Alone', 'Alone', 'Alone', 'Alone', 'Alone',\n",
       "       'Alone', 'Alone', 'Not Alone', 'Alone', 'Alone', 'Alone', 'Alone',\n",
       "       'Alone', 'Not Alone', 'Alone', 'Not Alone', 'Alone', 'Not Alone',\n",
       "       'Alone', 'Alone', 'Alone', 'Not Alone', 'Alone', 'Not Alone',\n",
       "       'Not Alone', 'Alone', 'Alone', 'Not Alone', 'Not Alone', 'Alone',\n",
       "       'Not Alone', 'Alone', 'Not Alone', 'Alone', 'Not Alone',\n",
       "       'Not Alone', 'Alone', 'Alone', 'Alone', 'Not Alone', 'Not Alone',\n",
       "       'Alone', 'Alone', 'Alone', 'Not Alone', 'Not Alone', 'Not Alone',\n",
       "       'Alone', 'Not Alone', 'Not Alone', 'Not Alone', 'Alone',\n",
       "       'Not Alone', 'Alone', 'Alone', 'Alone', 'Not Alone', 'Not Alone',\n",
       "       'Alone', 'Alone', 'Alone', 'Alone', 'Alone', 'Not Alone',\n",
       "       'Not Alone', 'Alone', 'Alone', 'Alone', 'Not Alone', 'Not Alone',\n",
       "       'Alone', 'Alone', 'Not Alone', 'Alone', 'Alone', 'Alone',\n",
       "       'Not Alone', 'Not Alone', 'Not Alone', 'Alone', 'Not Alone',\n",
       "       'Alone', 'Not Alone', 'Alone', 'Alone', 'Alone', 'Not Alone',\n",
       "       'Not Alone', 'Alone', 'Alone', 'Not Alone', 'Not Alone', 'Alone',\n",
       "       'Not Alone', 'Alone', 'Alone', 'Alone', 'Not Alone', 'Alone',\n",
       "       'Not Alone', 'Alone', 'Alone', 'Not Alone', 'Alone', 'Alone',\n",
       "       'Alone', 'Not Alone', 'Alone', 'Not Alone', 'Not Alone',\n",
       "       'Not Alone', 'Alone', 'Alone', 'Alone', 'Alone', 'Alone', 'Alone',\n",
       "       'Alone', 'Not Alone', 'Not Alone', 'Alone', 'Not Alone', 'Alone',\n",
       "       'Not Alone', 'Alone', 'Not Alone', 'Alone', 'Alone', 'Not Alone',\n",
       "       'Alone', 'Alone', 'Alone', 'Not Alone', 'Not Alone', 'Alone',\n",
       "       'Not Alone', 'Alone', 'Alone', 'Alone', 'Not Alone', 'Not Alone',\n",
       "       'Alone', 'Not Alone', 'Alone', 'Alone', 'Alone', 'Alone',\n",
       "       'Not Alone', 'Not Alone', 'Alone', 'Not Alone', 'Not Alone',\n",
       "       'Not Alone', 'Not Alone', 'Not Alone', 'Alone', 'Not Alone',\n",
       "       'Alone', 'Not Alone', 'Alone', 'Alone', 'Not Alone', 'Not Alone',\n",
       "       'Alone', 'Not Alone', 'Alone', 'Not Alone', 'Not Alone', 'Alone',\n",
       "       'Not Alone', 'Alone', 'Alone', 'Alone', 'Not Alone', 'Alone',\n",
       "       'Alone', 'Alone', 'Alone', 'Alone', 'Alone', 'Alone', 'Alone',\n",
       "       'Alone', 'Alone', 'Alone', 'Not Alone', 'Alone', 'Alone',\n",
       "       'Not Alone', 'Alone', 'Alone', 'Alone', 'Not Alone', 'Not Alone',\n",
       "       'Alone', 'Not Alone', 'Not Alone', 'Alone', 'Alone', 'Alone',\n",
       "       'Not Alone', 'Not Alone', 'Not Alone', 'Alone', 'Alone',\n",
       "       'Not Alone', 'Not Alone', 'Alone', 'Alone', 'Alone', 'Alone',\n",
       "       'Alone', 'Not Alone', 'Alone', 'Not Alone', 'Alone', 'Alone',\n",
       "       'Alone', 'Alone', 'Alone', 'Alone', 'Not Alone', 'Not Alone',\n",
       "       'Alone', 'Alone', 'Alone', 'Alone', 'Alone', 'Alone', 'Not Alone',\n",
       "       'Alone', 'Alone', 'Alone', 'Alone', 'Not Alone', 'Alone', 'Alone',\n",
       "       'Alone', 'Alone', 'Not Alone', 'Alone', 'Alone', 'Alone', 'Alone',\n",
       "       'Alone', 'Not Alone', 'Not Alone', 'Alone', 'Not Alone',\n",
       "       'Not Alone', 'Alone', 'Not Alone', 'Alone', 'Alone', 'Alone',\n",
       "       'Not Alone', 'Not Alone', 'Not Alone', 'Not Alone', 'Not Alone',\n",
       "       'Not Alone', 'Alone', 'Not Alone', 'Alone', 'Not Alone',\n",
       "       'Not Alone', 'Not Alone', 'Alone', 'Alone', 'Alone', 'Alone',\n",
       "       'Alone', 'Not Alone', 'Alone', 'Not Alone', 'Not Alone', 'Alone',\n",
       "       'Alone', 'Alone', 'Alone', 'Alone', 'Not Alone', 'Alone',\n",
       "       'Not Alone', 'Alone', 'Alone', 'Alone', 'Not Alone', 'Alone',\n",
       "       'Alone', 'Alone', 'Alone', 'Alone', 'Not Alone', 'Not Alone',\n",
       "       'Alone', 'Not Alone', 'Not Alone', 'Alone', 'Alone', 'Alone',\n",
       "       'Not Alone', 'Alone', 'Not Alone', 'Alone', 'Alone', 'Alone',\n",
       "       'Not Alone', 'Alone', 'Not Alone', 'Not Alone', 'Not Alone',\n",
       "       'Alone', 'Alone', 'Alone', 'Not Alone', 'Not Alone', 'Alone',\n",
       "       'Alone', 'Alone', 'Alone', 'Not Alone', 'Alone', 'Alone',\n",
       "       'Not Alone', 'Alone', 'Not Alone', 'Alone', 'Not Alone', 'Alone',\n",
       "       'Alone', 'Not Alone', 'Not Alone', 'Not Alone', 'Not Alone',\n",
       "       'Alone', 'Not Alone', 'Not Alone', 'Not Alone', 'Alone', 'Alone',\n",
       "       'Alone', 'Alone', 'Alone', 'Alone', 'Alone', 'Alone', 'Alone',\n",
       "       'Alone', 'Alone', 'Not Alone', 'Alone', 'Alone', 'Not Alone',\n",
       "       'Not Alone', 'Not Alone', 'Alone', 'Alone', 'Not Alone', 'Alone',\n",
       "       'Not Alone', 'Not Alone', 'Alone', 'Alone', 'Alone', 'Alone',\n",
       "       'Alone', 'Not Alone', 'Alone', 'Alone', 'Alone', 'Not Alone',\n",
       "       'Alone', 'Not Alone', 'Alone', 'Not Alone', 'Not Alone', 'Alone',\n",
       "       'Alone', 'Alone', 'Not Alone', 'Not Alone', 'Alone', 'Alone',\n",
       "       'Alone', 'Not Alone', 'Not Alone', 'Not Alone', 'Alone', 'Alone',\n",
       "       'Alone', 'Alone', 'Alone', 'Alone', 'Not Alone', 'Not Alone',\n",
       "       'Alone', 'Alone', 'Alone', 'Not Alone', 'Not Alone', 'Not Alone',\n",
       "       'Not Alone', 'Alone', 'Alone', 'Not Alone', 'Not Alone',\n",
       "       'Not Alone', 'Alone', 'Alone', 'Alone', 'Alone', 'Alone', 'Alone',\n",
       "       'Not Alone', 'Alone', 'Not Alone', 'Alone', 'Not Alone', 'Alone',\n",
       "       'Not Alone', 'Alone', 'Alone', 'Alone', 'Alone', 'Not Alone',\n",
       "       'Alone', 'Alone', 'Not Alone', 'Alone', 'Alone', 'Alone', 'Alone',\n",
       "       'Alone', 'Alone', 'Alone', 'Not Alone', 'Not Alone', 'Alone',\n",
       "       'Alone', 'Not Alone', 'Alone', 'Not Alone', 'Alone', 'Not Alone',\n",
       "       'Not Alone', 'Alone', 'Alone', 'Alone', 'Alone', 'Alone', 'Alone',\n",
       "       'Not Alone', 'Alone', 'Alone', 'Alone', 'Alone', 'Not Alone',\n",
       "       'Not Alone', 'Not Alone', 'Alone', 'Not Alone', 'Not Alone',\n",
       "       'Alone', 'Not Alone', 'Alone', 'Not Alone', 'Not Alone', 'Alone',\n",
       "       'Alone', 'Not Alone', 'Not Alone', 'Alone', 'Alone', 'Alone',\n",
       "       'Alone', 'Alone', 'Alone', 'Alone', 'Not Alone', 'Alone',\n",
       "       'Not Alone', 'Alone', 'Alone', 'Not Alone', 'Alone', 'Alone',\n",
       "       'Alone', 'Alone', 'Alone', 'Not Alone', 'Alone', 'Alone', 'Alone',\n",
       "       'Alone', 'Not Alone', 'Alone', 'Not Alone', 'Alone', 'Not Alone',\n",
       "       'Alone', 'Alone', 'Alone', 'Not Alone', 'Not Alone', 'Alone',\n",
       "       'Alone', 'Alone', 'Not Alone', 'Alone', 'Alone', 'Alone', 'Alone',\n",
       "       'Alone', 'Alone', 'Not Alone', 'Alone', 'Not Alone', 'Not Alone',\n",
       "       'Not Alone', 'Alone', 'Alone', 'Alone', 'Alone', 'Alone',\n",
       "       'Not Alone', 'Alone', 'Alone', 'Alone', 'Not Alone', 'Alone',\n",
       "       'Alone', 'Alone', 'Not Alone', 'Alone', 'Not Alone', 'Not Alone',\n",
       "       'Alone', 'Alone', 'Not Alone', 'Not Alone', 'Alone', 'Alone',\n",
       "       'Not Alone', 'Alone', 'Alone', 'Not Alone', 'Not Alone', 'Alone',\n",
       "       'Alone', 'Alone', 'Not Alone', 'Alone', 'Alone', 'Alone', 'Alone',\n",
       "       'Alone', 'Alone', 'Alone', 'Alone', 'Alone', 'Alone', 'Not Alone',\n",
       "       'Alone', 'Not Alone', 'Not Alone', 'Not Alone', 'Alone',\n",
       "       'Not Alone', 'Not Alone', 'Not Alone', 'Not Alone', 'Not Alone',\n",
       "       'Alone', 'Not Alone', 'Alone', 'Not Alone', 'Not Alone', 'Alone',\n",
       "       'Not Alone', 'Alone', 'Alone', 'Not Alone', 'Alone', 'Alone',\n",
       "       'Not Alone', 'Alone', 'Not Alone', 'Alone', 'Alone', 'Not Alone',\n",
       "       'Alone', 'Alone', 'Alone', 'Alone', 'Not Alone', 'Not Alone',\n",
       "       'Alone', 'Alone', 'Alone', 'Alone', 'Not Alone', 'Alone', 'Alone',\n",
       "       'Not Alone', 'Alone', 'Alone'], dtype='<U9')"
      ]
     },
     "execution_count": 38,
     "metadata": {},
     "output_type": "execute_result"
    }
   ],
   "source": [
    "notalone"
   ]
  },
  {
   "cell_type": "code",
   "execution_count": 25,
   "id": "044b157d",
   "metadata": {},
   "outputs": [
    {
     "data": {
      "text/html": [
       "<div>\n",
       "<style scoped>\n",
       "    .dataframe tbody tr th:only-of-type {\n",
       "        vertical-align: middle;\n",
       "    }\n",
       "\n",
       "    .dataframe tbody tr th {\n",
       "        vertical-align: top;\n",
       "    }\n",
       "\n",
       "    .dataframe thead th {\n",
       "        text-align: right;\n",
       "    }\n",
       "</style>\n",
       "<table border=\"1\" class=\"dataframe\">\n",
       "  <thead>\n",
       "    <tr style=\"text-align: right;\">\n",
       "      <th></th>\n",
       "      <th>survived</th>\n",
       "      <th>Total</th>\n",
       "      <th>Percent survived</th>\n",
       "    </tr>\n",
       "  </thead>\n",
       "  <tbody>\n",
       "    <tr>\n",
       "      <th>Alone</th>\n",
       "      <td>163</td>\n",
       "      <td>537</td>\n",
       "      <td>30.353818</td>\n",
       "    </tr>\n",
       "    <tr>\n",
       "      <th>Not Alone</th>\n",
       "      <td>179</td>\n",
       "      <td>354</td>\n",
       "      <td>50.564972</td>\n",
       "    </tr>\n",
       "  </tbody>\n",
       "</table>\n",
       "</div>"
      ],
      "text/plain": [
       "           survived  Total  Percent survived\n",
       "Alone           163    537         30.353818\n",
       "Not Alone       179    354         50.564972"
      ]
     },
     "execution_count": 25,
     "metadata": {},
     "output_type": "execute_result"
    }
   ],
   "source": [
    "lone_summary['Percent survived'] = (lone_summary.survived / lone_summary.Total) *100\n",
    "\n",
    "lone_summary\n"
   ]
  },
  {
   "cell_type": "code",
   "execution_count": 27,
   "id": "92390142",
   "metadata": {},
   "outputs": [
    {
     "data": {
      "text/plain": [
       "<matplotlib.legend.Legend at 0x1bc460c78e0>"
      ]
     },
     "execution_count": 27,
     "metadata": {},
     "output_type": "execute_result"
    },
    {
     "data": {
      "image/png": "[encoded data removed]",
      "text/plain": [
       "<Figure size 648x432 with 1 Axes>"
      ]
     },
     "metadata": {},
     "output_type": "display_data"
    }
   ],
   "source": [
    "# Plotting the above story\n",
    "\n",
    "#x = survived_total_by_pclass.index.values\n",
    "x = range(len(lone_summary.index.values))\n",
    "ht = lone_summary.Total\n",
    "hs = lone_summary.survived\n",
    "\n",
    "pht = plt.bar(x, ht)\n",
    "phs = plt.bar(x, hs)\n",
    "\n",
    "plt.xticks(x,lone_summary.index.values)\n",
    "plt.xlabel('Alone/Not Alone')\n",
    "plt.ylabel('Passengers')\n",
    "plt.title('Survivors by Alone/Not Alone')\n",
    "\n",
    "plt.legend([pht,phs],['Died', 'Survived'])"
   ]
  },
  {
   "cell_type": "markdown",
   "id": "dc5af238",
   "metadata": {},
   "source": [
    "Conclusion on Q3: Passengers having company had higher survival rate"
   ]
  },
  {
   "cell_type": "markdown",
   "id": "8ea8401c",
   "metadata": {},
   "source": [
    "# Question4: Which age group had a better chance of survival"
   ]
  },
  {
   "cell_type": "markdown",
   "id": "53ce9c4d",
   "metadata": {},
   "source": [
    "First review gender age distribution"
   ]
  },
  {
   "cell_type": "code",
   "execution_count": 28,
   "id": "da4438b9",
   "metadata": {},
   "outputs": [
    {
     "data": {
      "text/plain": [
       "count    577.000000\n",
       "mean      30.423672\n",
       "std       13.264336\n",
       "min        0.420000\n",
       "25%       23.000000\n",
       "50%       27.000000\n",
       "75%       37.000000\n",
       "max       80.000000\n",
       "Name: Age, dtype: float64"
      ]
     },
     "execution_count": 28,
     "metadata": {},
     "output_type": "execute_result"
    }
   ],
   "source": [
    "male_age = (titanic_df[titanic_df.Sex == 'male'])['Age']\n",
    "male_age.describe()"
   ]
  },
  {
   "cell_type": "code",
   "execution_count": 29,
   "id": "0c2156d6",
   "metadata": {},
   "outputs": [
    {
     "data": {
      "text/plain": [
       "count    314.000000\n",
       "mean      27.288063\n",
       "std       13.091327\n",
       "min        0.750000\n",
       "25%       21.000000\n",
       "50%       24.000000\n",
       "75%       35.000000\n",
       "max       63.000000\n",
       "Name: Age, dtype: float64"
      ]
     },
     "execution_count": 29,
     "metadata": {},
     "output_type": "execute_result"
    }
   ],
   "source": [
    "female_age = (titanic_df[titanic_df.Sex == 'female'])['Age']\n",
    "female_age.describe()"
   ]
  },
  {
   "cell_type": "code",
   "execution_count": 31,
   "id": "d132b33f",
   "metadata": {},
   "outputs": [
    {
     "data": {
      "text/plain": [
       "Text(0.5, 1.0, 'Male & Female Ages')"
      ]
     },
     "execution_count": 31,
     "metadata": {},
     "output_type": "execute_result"
    },
    {
     "data": {
      "image/png": "[encoded data removed]",
      "text/plain": [
       "<Figure size 648x432 with 1 Axes>"
      ]
     },
     "metadata": {},
     "output_type": "display_data"
    }
   ],
   "source": [
    "male_age.hist(label = 'Male')\n",
    "female_age.hist(label = 'Female', alpha = 0.6)\n",
    "\n",
    "plt.xlabel('Age')\n",
    "plt.ylabel('Passengers')\n",
    "plt.legend(loc = 'best')\n",
    "plt.title('Male & Female Ages')"
   ]
  },
  {
   "cell_type": "markdown",
   "id": "4a10e389",
   "metadata": {},
   "source": [
    "From the above distribution:\n",
    "    1) For each age group, the number of females were lesser than number of male passengers\n",
    "    2) The age of oldest female is 63, vs. oldest male passenger is 80"
   ]
  },
  {
   "cell_type": "markdown",
   "id": "65a36679",
   "metadata": {},
   "source": [
    "Let's do survival analysis by Age group"
   ]
  },
  {
   "cell_type": "code",
   "execution_count": 35,
   "id": "1115d612",
   "metadata": {},
   "outputs": [],
   "source": [
    "def age_group(age):\n",
    "    if age>=80:\n",
    "        return '80-89'\n",
    "    if age>=70:\n",
    "        return '70-79'\n",
    "    if age>=60:\n",
    "        return '60-69'\n",
    "    if age>=50:\n",
    "        return '50-59'\n",
    "    if age>=40:\n",
    "        return '40-49'\n",
    "    if age>=30:\n",
    "        return '30-39'\n",
    "    if age>=20:\n",
    "        return '20-29'\n",
    "    if age>=10:\n",
    "        return '10-19'\n",
    "    if age>=0:\n",
    "        return '0-9'"
   ]
  },
  {
   "cell_type": "code",
   "execution_count": 36,
   "id": "062751e8",
   "metadata": {},
   "outputs": [
    {
     "data": {
      "text/html": [
       "<div>\n",
       "<style scoped>\n",
       "    .dataframe tbody tr th:only-of-type {\n",
       "        vertical-align: middle;\n",
       "    }\n",
       "\n",
       "    .dataframe tbody tr th {\n",
       "        vertical-align: top;\n",
       "    }\n",
       "\n",
       "    .dataframe thead th {\n",
       "        text-align: right;\n",
       "    }\n",
       "</style>\n",
       "<table border=\"1\" class=\"dataframe\">\n",
       "  <thead>\n",
       "    <tr style=\"text-align: right;\">\n",
       "      <th></th>\n",
       "      <th>Survived</th>\n",
       "      <th>Pclass</th>\n",
       "      <th>Name</th>\n",
       "      <th>Sex</th>\n",
       "      <th>Age</th>\n",
       "      <th>SibSp</th>\n",
       "      <th>Parch</th>\n",
       "      <th>Ticket</th>\n",
       "      <th>Fare</th>\n",
       "      <th>Cabin</th>\n",
       "      <th>Embarked</th>\n",
       "      <th>AgeGroup</th>\n",
       "    </tr>\n",
       "    <tr>\n",
       "      <th>PassengerId</th>\n",
       "      <th></th>\n",
       "      <th></th>\n",
       "      <th></th>\n",
       "      <th></th>\n",
       "      <th></th>\n",
       "      <th></th>\n",
       "      <th></th>\n",
       "      <th></th>\n",
       "      <th></th>\n",
       "      <th></th>\n",
       "      <th></th>\n",
       "      <th></th>\n",
       "    </tr>\n",
       "  </thead>\n",
       "  <tbody>\n",
       "    <tr>\n",
       "      <th>1</th>\n",
       "      <td>0</td>\n",
       "      <td>3</td>\n",
       "      <td>Braund, Mr. Owen Harris</td>\n",
       "      <td>male</td>\n",
       "      <td>22.0</td>\n",
       "      <td>1</td>\n",
       "      <td>0</td>\n",
       "      <td>A/5 21171</td>\n",
       "      <td>7.2500</td>\n",
       "      <td>NaN</td>\n",
       "      <td>S</td>\n",
       "      <td>20-29</td>\n",
       "    </tr>\n",
       "    <tr>\n",
       "      <th>2</th>\n",
       "      <td>1</td>\n",
       "      <td>1</td>\n",
       "      <td>Cumings, Mrs. John Bradley (Florence Briggs Th...</td>\n",
       "      <td>female</td>\n",
       "      <td>38.0</td>\n",
       "      <td>1</td>\n",
       "      <td>0</td>\n",
       "      <td>PC 17599</td>\n",
       "      <td>71.2833</td>\n",
       "      <td>C85</td>\n",
       "      <td>C</td>\n",
       "      <td>30-39</td>\n",
       "    </tr>\n",
       "    <tr>\n",
       "      <th>3</th>\n",
       "      <td>1</td>\n",
       "      <td>3</td>\n",
       "      <td>Heikkinen, Miss. Laina</td>\n",
       "      <td>female</td>\n",
       "      <td>26.0</td>\n",
       "      <td>0</td>\n",
       "      <td>0</td>\n",
       "      <td>STON/O2. 3101282</td>\n",
       "      <td>7.9250</td>\n",
       "      <td>NaN</td>\n",
       "      <td>S</td>\n",
       "      <td>20-29</td>\n",
       "    </tr>\n",
       "    <tr>\n",
       "      <th>4</th>\n",
       "      <td>1</td>\n",
       "      <td>1</td>\n",
       "      <td>Futrelle, Mrs. Jacques Heath (Lily May Peel)</td>\n",
       "      <td>female</td>\n",
       "      <td>35.0</td>\n",
       "      <td>1</td>\n",
       "      <td>0</td>\n",
       "      <td>113803</td>\n",
       "      <td>53.1000</td>\n",
       "      <td>C123</td>\n",
       "      <td>S</td>\n",
       "      <td>30-39</td>\n",
       "    </tr>\n",
       "  </tbody>\n",
       "</table>\n",
       "</div>"
      ],
      "text/plain": [
       "             Survived  Pclass  \\\n",
       "PassengerId                     \n",
       "1                   0       3   \n",
       "2                   1       1   \n",
       "3                   1       3   \n",
       "4                   1       1   \n",
       "\n",
       "                                                          Name     Sex   Age  \\\n",
       "PassengerId                                                                    \n",
       "1                                      Braund, Mr. Owen Harris    male  22.0   \n",
       "2            Cumings, Mrs. John Bradley (Florence Briggs Th...  female  38.0   \n",
       "3                                       Heikkinen, Miss. Laina  female  26.0   \n",
       "4                 Futrelle, Mrs. Jacques Heath (Lily May Peel)  female  35.0   \n",
       "\n",
       "             SibSp  Parch            Ticket     Fare Cabin Embarked AgeGroup  \n",
       "PassengerId                                                                   \n",
       "1                1      0         A/5 21171   7.2500   NaN        S    20-29  \n",
       "2                1      0          PC 17599  71.2833   C85        C    30-39  \n",
       "3                0      0  STON/O2. 3101282   7.9250   NaN        S    20-29  \n",
       "4                1      0            113803  53.1000  C123        S    30-39  "
      ]
     },
     "execution_count": 36,
     "metadata": {},
     "output_type": "execute_result"
    }
   ],
   "source": [
    "titanic_df['AgeGroup'] = titanic_df.Age.apply(age_group)\n",
    "titanic_df.head(4)"
   ]
  },
  {
   "cell_type": "code",
   "execution_count": 40,
   "id": "de91ecfe",
   "metadata": {},
   "outputs": [
    {
     "data": {
      "text/html": [
       "<div>\n",
       "<style scoped>\n",
       "    .dataframe tbody tr th:only-of-type {\n",
       "        vertical-align: middle;\n",
       "    }\n",
       "\n",
       "    .dataframe tbody tr th {\n",
       "        vertical-align: top;\n",
       "    }\n",
       "\n",
       "    .dataframe thead th {\n",
       "        text-align: right;\n",
       "    }\n",
       "</style>\n",
       "<table border=\"1\" class=\"dataframe\">\n",
       "  <thead>\n",
       "    <tr style=\"text-align: right;\">\n",
       "      <th></th>\n",
       "      <th>Survived</th>\n",
       "      <th>Total</th>\n",
       "    </tr>\n",
       "    <tr>\n",
       "      <th>AgeGroup</th>\n",
       "      <th></th>\n",
       "      <th></th>\n",
       "    </tr>\n",
       "  </thead>\n",
       "  <tbody>\n",
       "    <tr>\n",
       "      <th>0-9</th>\n",
       "      <td>38</td>\n",
       "      <td>62</td>\n",
       "    </tr>\n",
       "    <tr>\n",
       "      <th>10-19</th>\n",
       "      <td>41</td>\n",
       "      <td>102</td>\n",
       "    </tr>\n",
       "    <tr>\n",
       "      <th>20-29</th>\n",
       "      <td>113</td>\n",
       "      <td>358</td>\n",
       "    </tr>\n",
       "    <tr>\n",
       "      <th>30-39</th>\n",
       "      <td>84</td>\n",
       "      <td>185</td>\n",
       "    </tr>\n",
       "    <tr>\n",
       "      <th>40-49</th>\n",
       "      <td>39</td>\n",
       "      <td>110</td>\n",
       "    </tr>\n",
       "    <tr>\n",
       "      <th>50-59</th>\n",
       "      <td>20</td>\n",
       "      <td>48</td>\n",
       "    </tr>\n",
       "    <tr>\n",
       "      <th>60-69</th>\n",
       "      <td>6</td>\n",
       "      <td>19</td>\n",
       "    </tr>\n",
       "    <tr>\n",
       "      <th>70-79</th>\n",
       "      <td>0</td>\n",
       "      <td>6</td>\n",
       "    </tr>\n",
       "    <tr>\n",
       "      <th>80-89</th>\n",
       "      <td>1</td>\n",
       "      <td>1</td>\n",
       "    </tr>\n",
       "  </tbody>\n",
       "</table>\n",
       "</div>"
      ],
      "text/plain": [
       "          Survived  Total\n",
       "AgeGroup                 \n",
       "0-9             38     62\n",
       "10-19           41    102\n",
       "20-29          113    358\n",
       "30-39           84    185\n",
       "40-49           39    110\n",
       "50-59           20     48\n",
       "60-69            6     19\n",
       "70-79            0      6\n",
       "80-89            1      1"
      ]
     },
     "execution_count": 40,
     "metadata": {},
     "output_type": "execute_result"
    }
   ],
   "source": [
    "\n",
    "#age_group_summary = np.where((titanic_df.SibSp + titanic_df.Parch) >=1 , 'Not Alone', 'Alone')\n",
    "age_group_summary = titanic_df.groupby(['AgeGroup'], as_index=False)['Survived'].agg([np.sum,np.size])\n",
    "age_group_summary = age_group_summary.rename(columns = {'sum':'Survived', 'size':'Total'})\n",
    "\n",
    "age_group_summary"
   ]
  },
  {
   "cell_type": "code",
   "execution_count": 42,
   "id": "fd354fd6",
   "metadata": {},
   "outputs": [
    {
     "data": {
      "text/plain": [
       "<matplotlib.legend.Legend at 0x1bc460b5280>"
      ]
     },
     "execution_count": 42,
     "metadata": {},
     "output_type": "execute_result"
    },
    {
     "data": {
      "image/png": "[encoded data removed]",
      "text/plain": [
       "<Figure size 648x432 with 1 Axes>"
      ]
     },
     "metadata": {},
     "output_type": "display_data"
    }
   ],
   "source": [
    "# Plotting the above story\n",
    "\n",
    "#x = survived_total_by_pclass.index.values\n",
    "x = range(len(age_group_summary.index.values))\n",
    "ht = age_group_summary.Total\n",
    "hs = age_group_summary.Survived\n",
    "\n",
    "pht = plt.bar(x, ht)\n",
    "phs = plt.bar(x, hs)\n",
    "\n",
    "plt.xticks(x,age_group_summary.index.values)\n",
    "plt.xlabel('Age groups')\n",
    "plt.ylabel('Passengers')\n",
    "plt.title('Survivors by Age groups')\n",
    "\n",
    "plt.legend([pht,phs],['Died', 'Survived'])"
   ]
  },
  {
   "cell_type": "code",
   "execution_count": 43,
   "id": "d5131fb8",
   "metadata": {},
   "outputs": [
    {
     "data": {
      "text/html": [
       "<div>\n",
       "<style scoped>\n",
       "    .dataframe tbody tr th:only-of-type {\n",
       "        vertical-align: middle;\n",
       "    }\n",
       "\n",
       "    .dataframe tbody tr th {\n",
       "        vertical-align: top;\n",
       "    }\n",
       "\n",
       "    .dataframe thead th {\n",
       "        text-align: right;\n",
       "    }\n",
       "</style>\n",
       "<table border=\"1\" class=\"dataframe\">\n",
       "  <thead>\n",
       "    <tr style=\"text-align: right;\">\n",
       "      <th></th>\n",
       "      <th>Survived</th>\n",
       "      <th>Total</th>\n",
       "      <th>Percent survived</th>\n",
       "    </tr>\n",
       "    <tr>\n",
       "      <th>AgeGroup</th>\n",
       "      <th></th>\n",
       "      <th></th>\n",
       "      <th></th>\n",
       "    </tr>\n",
       "  </thead>\n",
       "  <tbody>\n",
       "    <tr>\n",
       "      <th>0-9</th>\n",
       "      <td>38</td>\n",
       "      <td>62</td>\n",
       "      <td>61.290323</td>\n",
       "    </tr>\n",
       "    <tr>\n",
       "      <th>10-19</th>\n",
       "      <td>41</td>\n",
       "      <td>102</td>\n",
       "      <td>40.196078</td>\n",
       "    </tr>\n",
       "    <tr>\n",
       "      <th>20-29</th>\n",
       "      <td>113</td>\n",
       "      <td>358</td>\n",
       "      <td>31.564246</td>\n",
       "    </tr>\n",
       "    <tr>\n",
       "      <th>30-39</th>\n",
       "      <td>84</td>\n",
       "      <td>185</td>\n",
       "      <td>45.405405</td>\n",
       "    </tr>\n",
       "    <tr>\n",
       "      <th>40-49</th>\n",
       "      <td>39</td>\n",
       "      <td>110</td>\n",
       "      <td>35.454545</td>\n",
       "    </tr>\n",
       "    <tr>\n",
       "      <th>50-59</th>\n",
       "      <td>20</td>\n",
       "      <td>48</td>\n",
       "      <td>41.666667</td>\n",
       "    </tr>\n",
       "    <tr>\n",
       "      <th>60-69</th>\n",
       "      <td>6</td>\n",
       "      <td>19</td>\n",
       "      <td>31.578947</td>\n",
       "    </tr>\n",
       "    <tr>\n",
       "      <th>70-79</th>\n",
       "      <td>0</td>\n",
       "      <td>6</td>\n",
       "      <td>0.000000</td>\n",
       "    </tr>\n",
       "    <tr>\n",
       "      <th>80-89</th>\n",
       "      <td>1</td>\n",
       "      <td>1</td>\n",
       "      <td>100.000000</td>\n",
       "    </tr>\n",
       "  </tbody>\n",
       "</table>\n",
       "</div>"
      ],
      "text/plain": [
       "          Survived  Total  Percent survived\n",
       "AgeGroup                                   \n",
       "0-9             38     62         61.290323\n",
       "10-19           41    102         40.196078\n",
       "20-29          113    358         31.564246\n",
       "30-39           84    185         45.405405\n",
       "40-49           39    110         35.454545\n",
       "50-59           20     48         41.666667\n",
       "60-69            6     19         31.578947\n",
       "70-79            0      6          0.000000\n",
       "80-89            1      1        100.000000"
      ]
     },
     "execution_count": 43,
     "metadata": {},
     "output_type": "execute_result"
    }
   ],
   "source": [
    "age_group_summary['Percent survived'] = (age_group_summary.Survived / age_group_summary.Total) *100\n",
    "\n",
    "age_group_summary"
   ]
  },
  {
   "cell_type": "markdown",
   "id": "a9a0d0af",
   "metadata": {},
   "source": [
    "Most survivors are from 20-29 age group, but the best survival rate was of the kids age group"
   ]
  },
  {
   "cell_type": "code",
   "execution_count": 44,
   "id": "23eb1a9a",
   "metadata": {},
   "outputs": [
    {
     "data": {
      "text/html": [
       "<div>\n",
       "<style scoped>\n",
       "    .dataframe tbody tr th:only-of-type {\n",
       "        vertical-align: middle;\n",
       "    }\n",
       "\n",
       "    .dataframe tbody tr th {\n",
       "        vertical-align: top;\n",
       "    }\n",
       "\n",
       "    .dataframe thead th {\n",
       "        text-align: right;\n",
       "    }\n",
       "</style>\n",
       "<table border=\"1\" class=\"dataframe\">\n",
       "  <thead>\n",
       "    <tr style=\"text-align: right;\">\n",
       "      <th></th>\n",
       "      <th>Sex</th>\n",
       "      <th>AgeGroup</th>\n",
       "      <th>Survived</th>\n",
       "    </tr>\n",
       "  </thead>\n",
       "  <tbody>\n",
       "    <tr>\n",
       "      <th>0</th>\n",
       "      <td>female</td>\n",
       "      <td>0-9</td>\n",
       "      <td>0.633333</td>\n",
       "    </tr>\n",
       "    <tr>\n",
       "      <th>1</th>\n",
       "      <td>female</td>\n",
       "      <td>10-19</td>\n",
       "      <td>0.755556</td>\n",
       "    </tr>\n",
       "    <tr>\n",
       "      <th>2</th>\n",
       "      <td>female</td>\n",
       "      <td>20-29</td>\n",
       "      <td>0.681034</td>\n",
       "    </tr>\n",
       "    <tr>\n",
       "      <th>3</th>\n",
       "      <td>female</td>\n",
       "      <td>30-39</td>\n",
       "      <td>0.855072</td>\n",
       "    </tr>\n",
       "    <tr>\n",
       "      <th>4</th>\n",
       "      <td>female</td>\n",
       "      <td>40-49</td>\n",
       "      <td>0.687500</td>\n",
       "    </tr>\n",
       "    <tr>\n",
       "      <th>5</th>\n",
       "      <td>female</td>\n",
       "      <td>50-59</td>\n",
       "      <td>0.888889</td>\n",
       "    </tr>\n",
       "    <tr>\n",
       "      <th>6</th>\n",
       "      <td>female</td>\n",
       "      <td>60-69</td>\n",
       "      <td>1.000000</td>\n",
       "    </tr>\n",
       "    <tr>\n",
       "      <th>7</th>\n",
       "      <td>male</td>\n",
       "      <td>0-9</td>\n",
       "      <td>0.593750</td>\n",
       "    </tr>\n",
       "    <tr>\n",
       "      <th>8</th>\n",
       "      <td>male</td>\n",
       "      <td>10-19</td>\n",
       "      <td>0.122807</td>\n",
       "    </tr>\n",
       "    <tr>\n",
       "      <th>9</th>\n",
       "      <td>male</td>\n",
       "      <td>20-29</td>\n",
       "      <td>0.140496</td>\n",
       "    </tr>\n",
       "    <tr>\n",
       "      <th>10</th>\n",
       "      <td>male</td>\n",
       "      <td>30-39</td>\n",
       "      <td>0.215517</td>\n",
       "    </tr>\n",
       "    <tr>\n",
       "      <th>11</th>\n",
       "      <td>male</td>\n",
       "      <td>40-49</td>\n",
       "      <td>0.217949</td>\n",
       "    </tr>\n",
       "    <tr>\n",
       "      <th>12</th>\n",
       "      <td>male</td>\n",
       "      <td>50-59</td>\n",
       "      <td>0.133333</td>\n",
       "    </tr>\n",
       "    <tr>\n",
       "      <th>13</th>\n",
       "      <td>male</td>\n",
       "      <td>60-69</td>\n",
       "      <td>0.133333</td>\n",
       "    </tr>\n",
       "    <tr>\n",
       "      <th>14</th>\n",
       "      <td>male</td>\n",
       "      <td>70-79</td>\n",
       "      <td>0.000000</td>\n",
       "    </tr>\n",
       "    <tr>\n",
       "      <th>15</th>\n",
       "      <td>male</td>\n",
       "      <td>80-89</td>\n",
       "      <td>1.000000</td>\n",
       "    </tr>\n",
       "  </tbody>\n",
       "</table>\n",
       "</div>"
      ],
      "text/plain": [
       "       Sex AgeGroup  Survived\n",
       "0   female      0-9  0.633333\n",
       "1   female    10-19  0.755556\n",
       "2   female    20-29  0.681034\n",
       "3   female    30-39  0.855072\n",
       "4   female    40-49  0.687500\n",
       "5   female    50-59  0.888889\n",
       "6   female    60-69  1.000000\n",
       "7     male      0-9  0.593750\n",
       "8     male    10-19  0.122807\n",
       "9     male    20-29  0.140496\n",
       "10    male    30-39  0.215517\n",
       "11    male    40-49  0.217949\n",
       "12    male    50-59  0.133333\n",
       "13    male    60-69  0.133333\n",
       "14    male    70-79  0.000000\n",
       "15    male    80-89  1.000000"
      ]
     },
     "execution_count": 44,
     "metadata": {},
     "output_type": "execute_result"
    }
   ],
   "source": [
    "Gender_agegroup_summary = titanic_df.groupby(['Sex','AgeGroup'], as_index=False)['Survived'].mean()\n",
    "Gender_agegroup_summary"
   ]
  },
  {
   "cell_type": "code",
   "execution_count": 45,
   "id": "085d5839",
   "metadata": {},
   "outputs": [
    {
     "data": {
      "text/html": [
       "<div>\n",
       "<style scoped>\n",
       "    .dataframe tbody tr th:only-of-type {\n",
       "        vertical-align: middle;\n",
       "    }\n",
       "\n",
       "    .dataframe tbody tr th {\n",
       "        vertical-align: top;\n",
       "    }\n",
       "\n",
       "    .dataframe thead th {\n",
       "        text-align: right;\n",
       "    }\n",
       "</style>\n",
       "<table border=\"1\" class=\"dataframe\">\n",
       "  <thead>\n",
       "    <tr style=\"text-align: right;\">\n",
       "      <th></th>\n",
       "      <th>Sex</th>\n",
       "      <th>AgeGroup</th>\n",
       "      <th>Survived</th>\n",
       "    </tr>\n",
       "  </thead>\n",
       "  <tbody>\n",
       "    <tr>\n",
       "      <th>7</th>\n",
       "      <td>male</td>\n",
       "      <td>0-9</td>\n",
       "      <td>0.593750</td>\n",
       "    </tr>\n",
       "    <tr>\n",
       "      <th>8</th>\n",
       "      <td>male</td>\n",
       "      <td>10-19</td>\n",
       "      <td>0.122807</td>\n",
       "    </tr>\n",
       "    <tr>\n",
       "      <th>9</th>\n",
       "      <td>male</td>\n",
       "      <td>20-29</td>\n",
       "      <td>0.140496</td>\n",
       "    </tr>\n",
       "    <tr>\n",
       "      <th>10</th>\n",
       "      <td>male</td>\n",
       "      <td>30-39</td>\n",
       "      <td>0.215517</td>\n",
       "    </tr>\n",
       "    <tr>\n",
       "      <th>11</th>\n",
       "      <td>male</td>\n",
       "      <td>40-49</td>\n",
       "      <td>0.217949</td>\n",
       "    </tr>\n",
       "    <tr>\n",
       "      <th>12</th>\n",
       "      <td>male</td>\n",
       "      <td>50-59</td>\n",
       "      <td>0.133333</td>\n",
       "    </tr>\n",
       "    <tr>\n",
       "      <th>13</th>\n",
       "      <td>male</td>\n",
       "      <td>60-69</td>\n",
       "      <td>0.133333</td>\n",
       "    </tr>\n",
       "    <tr>\n",
       "      <th>14</th>\n",
       "      <td>male</td>\n",
       "      <td>70-79</td>\n",
       "      <td>0.000000</td>\n",
       "    </tr>\n",
       "    <tr>\n",
       "      <th>15</th>\n",
       "      <td>male</td>\n",
       "      <td>80-89</td>\n",
       "      <td>1.000000</td>\n",
       "    </tr>\n",
       "  </tbody>\n",
       "</table>\n",
       "</div>"
      ],
      "text/plain": [
       "     Sex AgeGroup  Survived\n",
       "7   male      0-9  0.593750\n",
       "8   male    10-19  0.122807\n",
       "9   male    20-29  0.140496\n",
       "10  male    30-39  0.215517\n",
       "11  male    40-49  0.217949\n",
       "12  male    50-59  0.133333\n",
       "13  male    60-69  0.133333\n",
       "14  male    70-79  0.000000\n",
       "15  male    80-89  1.000000"
      ]
     },
     "execution_count": 45,
     "metadata": {},
     "output_type": "execute_result"
    }
   ],
   "source": [
    "male_agegroup_summary = Gender_agegroup_summary[Gender_agegroup_summary['Sex'] == 'male']\n",
    "male_agegroup_summary"
   ]
  },
  {
   "cell_type": "code",
   "execution_count": 47,
   "id": "19054788",
   "metadata": {},
   "outputs": [
    {
     "data": {
      "text/html": [
       "<div>\n",
       "<style scoped>\n",
       "    .dataframe tbody tr th:only-of-type {\n",
       "        vertical-align: middle;\n",
       "    }\n",
       "\n",
       "    .dataframe tbody tr th {\n",
       "        vertical-align: top;\n",
       "    }\n",
       "\n",
       "    .dataframe thead th {\n",
       "        text-align: right;\n",
       "    }\n",
       "</style>\n",
       "<table border=\"1\" class=\"dataframe\">\n",
       "  <thead>\n",
       "    <tr style=\"text-align: right;\">\n",
       "      <th></th>\n",
       "      <th>Sex</th>\n",
       "      <th>AgeGroup</th>\n",
       "      <th>Survived</th>\n",
       "    </tr>\n",
       "  </thead>\n",
       "  <tbody>\n",
       "    <tr>\n",
       "      <th>0</th>\n",
       "      <td>female</td>\n",
       "      <td>0-9</td>\n",
       "      <td>0.633333</td>\n",
       "    </tr>\n",
       "    <tr>\n",
       "      <th>1</th>\n",
       "      <td>female</td>\n",
       "      <td>10-19</td>\n",
       "      <td>0.755556</td>\n",
       "    </tr>\n",
       "    <tr>\n",
       "      <th>2</th>\n",
       "      <td>female</td>\n",
       "      <td>20-29</td>\n",
       "      <td>0.681034</td>\n",
       "    </tr>\n",
       "    <tr>\n",
       "      <th>3</th>\n",
       "      <td>female</td>\n",
       "      <td>30-39</td>\n",
       "      <td>0.855072</td>\n",
       "    </tr>\n",
       "    <tr>\n",
       "      <th>4</th>\n",
       "      <td>female</td>\n",
       "      <td>40-49</td>\n",
       "      <td>0.687500</td>\n",
       "    </tr>\n",
       "    <tr>\n",
       "      <th>5</th>\n",
       "      <td>female</td>\n",
       "      <td>50-59</td>\n",
       "      <td>0.888889</td>\n",
       "    </tr>\n",
       "    <tr>\n",
       "      <th>6</th>\n",
       "      <td>female</td>\n",
       "      <td>60-69</td>\n",
       "      <td>1.000000</td>\n",
       "    </tr>\n",
       "  </tbody>\n",
       "</table>\n",
       "</div>"
      ],
      "text/plain": [
       "      Sex AgeGroup  Survived\n",
       "0  female      0-9  0.633333\n",
       "1  female    10-19  0.755556\n",
       "2  female    20-29  0.681034\n",
       "3  female    30-39  0.855072\n",
       "4  female    40-49  0.687500\n",
       "5  female    50-59  0.888889\n",
       "6  female    60-69  1.000000"
      ]
     },
     "execution_count": 47,
     "metadata": {},
     "output_type": "execute_result"
    }
   ],
   "source": [
    "female_agegroup_summary = Gender_agegroup_summary[Gender_agegroup_summary['Sex'] == 'female']\n",
    "female_agegroup_summary"
   ]
  },
  {
   "cell_type": "code",
   "execution_count": 48,
   "id": "05d945b5",
   "metadata": {},
   "outputs": [
    {
     "name": "stdout",
     "output_type": "stream",
     "text": [
      "['0-9', '10-19', '20-29', '30-39', '40-49', '50-59', '60-69', '70-79', '80-89']\n"
     ]
    }
   ],
   "source": [
    "age_group = titanic_df.AgeGroup.unique()\n",
    "age_labels = sorted(age_group)\n",
    "print (age_labels)"
   ]
  },
  {
   "cell_type": "code",
   "execution_count": 52,
   "id": "efe2063b",
   "metadata": {},
   "outputs": [
    {
     "data": {
      "text/plain": [
       "Text(0.5, 1.0, 'Survivors by Gender and Age groups')"
      ]
     },
     "execution_count": 52,
     "metadata": {},
     "output_type": "execute_result"
    },
    {
     "data": {
      "image/png": "[encoded data removed]",
      "text/plain": [
       "<Figure size 648x432 with 1 Axes>"
      ]
     },
     "metadata": {},
     "output_type": "display_data"
    }
   ],
   "source": [
    "ax = sns.barplot(x = 'AgeGroup', y = 'Survived', data = titanic_df, hue = 'Sex', order = age_labels)\n",
    "ax.set_title('Survivors by Gender and Age groups')"
   ]
  },
  {
   "cell_type": "markdown",
   "id": "30f8d6a5",
   "metadata": {},
   "source": [
    "It is clearly visible that female and children or female with kids were given preference in rescue operation of Titanic\n",
    "Kids(femake or male) had the highest survival rate"
   ]
  },
  {
   "cell_type": "markdown",
   "id": "e747f01a",
   "metadata": {},
   "source": [
    "# Limitations of current analysis:\n",
    "    1) The hypotheses are not statistically tested, but are validated using proportions, percentages and visualizations\n",
    "Limitations of the current dataset in analysis\n",
    "    1) Had a lot of missing values\n",
    "    2) Sample size\n",
    "    3) May be the dataset is just a sample of entire passengers dataset of Titanic"
   ]
  },
  {
   "cell_type": "markdown",
   "id": "4ce2e687",
   "metadata": {},
   "source": [
    "# Homework:\n",
    "    1) Analysis of survival rate: Agegroup with Passenger class\n",
    "    2) Analysis of survival rate: Gender with Passenger class"
   ]
  },
  {
   "cell_type": "code",
   "execution_count": null,
   "id": "490ec9f7",
   "metadata": {},
   "outputs": [],
   "source": []
  }
 ],
 "metadata": {
  "kernelspec": {
   "display_name": "Python 3 (ipykernel)",
   "language": "python",
   "name": "python3"
  },
  "language_info": {
   "codemirror_mode": {
    "name": "ipython",
    "version": 3
   },
   "file_extension": ".py",
   "mimetype": "text/x-python",
   "name": "python",
   "nbconvert_exporter": "python",
   "pygments_lexer": "ipython3",
   "version": "3.9.12"
  }
 },
 "nbformat": 4,
 "nbformat_minor": 5
}
