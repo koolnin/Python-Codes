{
 "cells": [
  {
   "cell_type": "code",
   "execution_count": 3,
   "id": "460a6ab7",
   "metadata": {},
   "outputs": [],
   "source": [
    "# 1) Rename the notebook to an \"appropriate name\"\n",
    "# 2) Always write comments at the beginning of each section\n",
    "# --> single line comment"
   ]
  },
  {
   "cell_type": "code",
   "execution_count": 4,
   "id": "2ff03269",
   "metadata": {},
   "outputs": [
    {
     "data": {
      "text/plain": [
       "'\\nThis is the \\nfirst session on\\nintroduction of Python\\nwith data types and data structures\\ntest\\ncomment\\n'"
      ]
     },
     "execution_count": 4,
     "metadata": {},
     "output_type": "execute_result"
    }
   ],
   "source": [
    "# Below is the method to comment multiple lines together\n",
    "\"\"\"\n",
    "This is the \n",
    "first session on\n",
    "introduction of Python\n",
    "with data types and data structures\n",
    "test\n",
    "comment\n",
    "\"\"\""
   ]
  },
  {
   "cell_type": "code",
   "execution_count": 24,
   "id": "f74a3004",
   "metadata": {},
   "outputs": [],
   "source": [
    "# Syntax \"=\" (assignment operator) for assigning value to a variable\n",
    "x = 3 #x is an integer variable\n",
    "y = \"abc\" #y is a str\n",
    "z = 'abcd' #z is a str\n",
    "aa = \"paul's\"\n",
    "ab = 'paul\"s'\n",
    "a = 3.4 #z is a float"
   ]
  },
  {
   "cell_type": "code",
   "execution_count": 25,
   "id": "bb789021",
   "metadata": {},
   "outputs": [
    {
     "name": "stdout",
     "output_type": "stream",
     "text": [
      "3\n",
      "abc\n",
      "abcd\n",
      "3.4\n",
      "paul's\n",
      "paul\"s\n"
     ]
    }
   ],
   "source": [
    "# Printing(Displaying) value in a variable\n",
    "print(x)\n",
    "print(y)\n",
    "print(z)\n",
    "print(a)\n",
    "print(aa)\n",
    "print(ab)"
   ]
  },
  {
   "cell_type": "code",
   "execution_count": 30,
   "id": "f80667ce",
   "metadata": {},
   "outputs": [
    {
     "name": "stdout",
     "output_type": "stream",
     "text": [
      "<class 'int'>\n",
      "<class 'str'>\n"
     ]
    }
   ],
   "source": [
    "print(type(x))\n",
    "print(type(y))"
   ]
  },
  {
   "cell_type": "code",
   "execution_count": 31,
   "id": "23d106af",
   "metadata": {},
   "outputs": [
    {
     "name": "stdout",
     "output_type": "stream",
     "text": [
      "True\n",
      "False\n",
      "False\n"
     ]
    }
   ],
   "source": [
    "#Boolean\n",
    "\n",
    "print(10>9)\n",
    "print(10==9)\n",
    "print(10<9)"
   ]
  },
  {
   "cell_type": "code",
   "execution_count": 37,
   "id": "1ec99673",
   "metadata": {},
   "outputs": [
    {
     "name": "stdout",
     "output_type": "stream",
     "text": [
      "b is greater than a\n"
     ]
    }
   ],
   "source": [
    "a= 100\n",
    "b = 100\n",
    "\n",
    "if b >= a:\n",
    "    print(\"b is greater than a\")\n",
    "else:\n",
    "    print(\"b is not greater than a\")"
   ]
  },
  {
   "cell_type": "code",
   "execution_count": 38,
   "id": "f8c11792",
   "metadata": {},
   "outputs": [],
   "source": [
    "#List\n",
    "#types of lists\n",
    "# Lists are of same data type\n",
    "List1 = [\"a\", \"b\", \"c\"]\n",
    "List2 = [1,2,3]\n",
    "List3 = [True, True, False]\n",
    "List4 = [\"a\",1,True]"
   ]
  },
  {
   "cell_type": "code",
   "execution_count": 39,
   "id": "972153cc",
   "metadata": {},
   "outputs": [
    {
     "name": "stdout",
     "output_type": "stream",
     "text": [
      "<class 'list'>\n",
      "<class 'list'>\n",
      "<class 'list'>\n",
      "<class 'list'>\n"
     ]
    }
   ],
   "source": [
    "print(type(List1))\n",
    "print(type(List2))\n",
    "print(type(List3))\n",
    "print(type(List4))"
   ]
  },
  {
   "cell_type": "code",
   "execution_count": 40,
   "id": "aa54ddad",
   "metadata": {},
   "outputs": [
    {
     "data": {
      "text/plain": [
       "list"
      ]
     },
     "execution_count": 40,
     "metadata": {},
     "output_type": "execute_result"
    }
   ],
   "source": [
    "type(List4)"
   ]
  },
  {
   "cell_type": "code",
   "execution_count": 41,
   "id": "83f3b4d0",
   "metadata": {},
   "outputs": [
    {
     "name": "stdout",
     "output_type": "stream",
     "text": [
      "{'brand': 'Maruti', 'model': 'Brezza', 'mileage': 18}\n"
     ]
    }
   ],
   "source": [
    "#Dictionaries\n",
    "# Data is stored in a combination of key value pair\n",
    "dict1 = {\n",
    "    \"brand\":\"Maruti\",\n",
    "    \"model\": \"Brezza\",\n",
    "    \"mileage\": 18\n",
    "}\n",
    "print(dict1)"
   ]
  },
  {
   "cell_type": "code",
   "execution_count": null,
   "id": "481d3a5d",
   "metadata": {},
   "outputs": [],
   "source": []
  }
 ],
 "metadata": {
  "kernelspec": {
   "display_name": "Python 3 (ipykernel)",
   "language": "python",
   "name": "python3"
  },
  "language_info": {
   "codemirror_mode": {
    "name": "ipython",
    "version": 3
   },
   "file_extension": ".py",
   "mimetype": "text/x-python",
   "name": "python",
   "nbconvert_exporter": "python",
   "pygments_lexer": "ipython3",
   "version": "3.9.12"
  }
 },
 "nbformat": 4,
 "nbformat_minor": 5
}
